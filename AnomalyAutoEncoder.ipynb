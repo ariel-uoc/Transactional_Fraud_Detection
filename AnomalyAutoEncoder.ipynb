{
 "cells": [
  {
   "cell_type": "markdown",
   "metadata": {},
   "source": [
    "#### Import Packages and read data"
   ]
  },
  {
   "cell_type": "code",
   "execution_count": 1,
   "metadata": {},
   "outputs": [
    {
     "name": "stderr",
     "output_type": "stream",
     "text": [
      "Using TensorFlow backend.\n"
     ]
    }
   ],
   "source": [
    "import pandas as pd\n",
    "import numpy as np\n",
    "from keras.models import Sequential\n",
    "from keras.layers import LSTM, SimpleRNN, Dense, Dropout, BatchNormalization, Input\n",
    "from keras.metrics import Accuracy, mse\n",
    "from keras.layers.embeddings import Embedding\n",
    "from sklearn.model_selection import train_test_split\n",
    "from sklearn.metrics import classification_report\n",
    "import matplotlib.pyplot as plt\n",
    "import seaborn as sns\n",
    "from sklearn.preprocessing import MinMaxScaler, normalize, StandardScaler\n",
    "from sklearn.metrics import (confusion_matrix, precision_recall_curve, auc,\n",
    "                             roc_curve, recall_score, classification_report, f1_score,\n",
    "                             precision_recall_fscore_support)"
   ]
  },
  {
   "cell_type": "code",
   "execution_count": 2,
   "metadata": {},
   "outputs": [],
   "source": [
    "df=pd.read_csv(\"df_new.csv\")"
   ]
  },
  {
   "cell_type": "markdown",
   "metadata": {},
   "source": [
    "#### Set X and Y and make training and testing sets"
   ]
  },
  {
   "cell_type": "code",
   "execution_count": 3,
   "metadata": {},
   "outputs": [],
   "source": [
    "Normaldat=df.loc[df[\"isFraud\"]==0]\n",
    "X=Normaldat[['amount', 'oldBalanceOrig', 'newBalanceOrig',\n",
    "       'oldBalanceDest', 'newBalanceDest', 'errorBalanceOrig',\n",
    "       'errorBalanceDest', 'day', 'CASH_IN', 'CASH_OUT', 'DEBIT', 'PAYMENT',\n",
    "       'TRANSFER', 'CC', 'CM', 'quartile1', 'quartile2', 'quartile3',\n",
    "       'quartile4']]\n",
    "Y=Normaldat[\"isFraud\"]\n",
    "#X=np.array(X)"
   ]
  },
  {
   "cell_type": "code",
   "execution_count": 4,
   "metadata": {},
   "outputs": [],
   "source": [
    "df=df[['amount', 'oldBalanceOrig', 'newBalanceOrig',\n",
    "       'oldBalanceDest', 'newBalanceDest', 'errorBalanceOrig',\n",
    "       'errorBalanceDest', 'day', 'CASH_IN', 'CASH_OUT', 'DEBIT', 'PAYMENT',\n",
    "       'TRANSFER', 'CC', 'CM', 'quartile1', 'quartile2', 'quartile3',\n",
    "       'quartile4','isFraud']]\n"
   ]
  },
  {
   "cell_type": "code",
   "execution_count": 5,
   "metadata": {},
   "outputs": [],
   "source": [
    "SEED=42\n",
    "X_train, X_test = train_test_split(df, test_size=0.2, random_state = SEED)\n",
    "\n",
    "X_train = X_train[X_train['isFraud'] == 0]\n",
    "X_train = X_train.drop(['isFraud'], axis=1)\n",
    "y_test  = X_test['isFraud']\n",
    "X_test  = X_test.drop(['isFraud'], axis=1)\n",
    "#X_train = X_train.values\n",
    "#X_test  = X_test.values"
   ]
  },
  {
   "cell_type": "markdown",
   "metadata": {},
   "source": [
    "#### Scale Data"
   ]
  },
  {
   "cell_type": "code",
   "execution_count": 6,
   "metadata": {},
   "outputs": [],
   "source": [
    "scaler=StandardScaler()\n",
    "X_trainSc = scaler.fit_transform(X_train)\n",
    "#X_trainSc=normalize(X_train)\n",
    "X_testSc = scaler.transform(X_test)\n",
    "#X_trainSc.shape"
   ]
  },
  {
   "cell_type": "code",
   "execution_count": 7,
   "metadata": {},
   "outputs": [
    {
     "data": {
      "text/plain": [
       "array([[ 0.35089038,  1.32973737,  1.43679932, ..., -0.57770833,\n",
       "        -0.57766623,  1.73503497],\n",
       "       [ 0.05794289, -0.20710807, -0.13966794, ..., -0.57770833,\n",
       "        -0.57766623,  1.73503497],\n",
       "       [-0.2662738 , -0.28715725, -0.29259701, ...,  1.7309773 ,\n",
       "        -0.57766623, -0.57635726],\n",
       "       ...,\n",
       "       [-0.28208694, -0.26787449, -0.27593916, ..., -0.57770833,\n",
       "        -0.57766623, -0.57635726],\n",
       "       [-0.17691532, -0.28138576, -0.29259701, ...,  1.7309773 ,\n",
       "        -0.57766623, -0.57635726],\n",
       "       [-0.14882408, -0.22047172, -0.25621226, ..., -0.57770833,\n",
       "         1.73110344, -0.57635726]])"
      ]
     },
     "execution_count": 7,
     "metadata": {},
     "output_type": "execute_result"
    }
   ],
   "source": [
    "X_trainSc"
   ]
  },
  {
   "cell_type": "code",
   "execution_count": 8,
   "metadata": {},
   "outputs": [],
   "source": [
    "LABELS = [\"Normal\", \"Fraud\"]"
   ]
  },
  {
   "cell_type": "code",
   "execution_count": 9,
   "metadata": {},
   "outputs": [],
   "source": [
    "input_dim=X_train.shape[1]"
   ]
  },
  {
   "cell_type": "markdown",
   "metadata": {},
   "source": [
    "### First Neural Network Baseline Model"
   ]
  },
  {
   "cell_type": "markdown",
   "metadata": {},
   "source": [
    "#### Create model instance"
   ]
  },
  {
   "cell_type": "code",
   "execution_count": 10,
   "metadata": {},
   "outputs": [],
   "source": [
    "mod=Sequential()\n",
    "mod.add(Dense(19,input_dim=19,activation='tanh'))\n",
    "mod.add(Dense(9,activation='relu'))\n",
    "mod.add(Dense(19,activation='tanh'))\n",
    "mod.compile(loss='mse', optimizer='adam', metrics=[\"accuracy\"])"
   ]
  },
  {
   "cell_type": "code",
   "execution_count": 11,
   "metadata": {},
   "outputs": [
    {
     "name": "stdout",
     "output_type": "stream",
     "text": [
      "WARNING:tensorflow:From C:\\Users\\glory\\Anaconda3\\lib\\site-packages\\keras\\backend\\tensorflow_backend.py:422: The name tf.global_variables is deprecated. Please use tf.compat.v1.global_variables instead.\n",
      "\n",
      "Train on 4066802 samples, validate on 1016701 samples\n",
      "Epoch 1/10\n",
      "4066802/4066802 [==============================] - 175s 43us/step - loss: 0.3864 - accuracy: 0.4902 - val_loss: 0.3803 - val_accuracy: 0.5385\n",
      "Epoch 2/10\n",
      "4066802/4066802 [==============================] - 182s 45us/step - loss: 0.3812 - accuracy: 0.5518 - val_loss: 0.3801 - val_accuracy: 0.5538\n",
      "Epoch 3/10\n",
      "4066802/4066802 [==============================] - 155s 38us/step - loss: 0.3810 - accuracy: 0.5506 - val_loss: 0.3800 - val_accuracy: 0.5447\n",
      "Epoch 4/10\n",
      "4066802/4066802 [==============================] - 165s 41us/step - loss: 0.3809 - accuracy: 0.5774 - val_loss: 0.3800 - val_accuracy: 0.6224\n",
      "Epoch 5/10\n",
      "4066802/4066802 [==============================] - 168s 41us/step - loss: 0.3808 - accuracy: 0.5487 - val_loss: 0.3799 - val_accuracy: 0.5206\n",
      "Epoch 6/10\n",
      "4066802/4066802 [==============================] - 154s 38us/step - loss: 0.3807 - accuracy: 0.5132 - val_loss: 0.3798 - val_accuracy: 0.5140\n",
      "Epoch 7/10\n",
      "4066802/4066802 [==============================] - 156s 38us/step - loss: 0.3807 - accuracy: 0.5135 - val_loss: 0.3797 - val_accuracy: 0.5130\n",
      "Epoch 8/10\n",
      "4066802/4066802 [==============================] - 155s 38us/step - loss: 0.3807 - accuracy: 0.5144 - val_loss: 0.3797 - val_accuracy: 0.5155\n",
      "Epoch 9/10\n",
      "4066802/4066802 [==============================] - 227s 56us/step - loss: 0.3806 - accuracy: 0.5153 - val_loss: 0.3797 - val_accuracy: 0.5147\n",
      "Epoch 10/10\n",
      "4066802/4066802 [==============================] - 188s 46us/step - loss: 0.3806 - accuracy: 0.5159 - val_loss: 0.3797 - val_accuracy: 0.5157\n"
     ]
    },
    {
     "data": {
      "text/plain": [
       "<keras.callbacks.callbacks.History at 0x2b41a38ddd8>"
      ]
     },
     "execution_count": 11,
     "metadata": {},
     "output_type": "execute_result"
    }
   ],
   "source": [
    "mod.fit(X_trainSc,X_trainSc,validation_split=.2,epochs=10,batch_size=64)"
   ]
  },
  {
   "cell_type": "code",
   "execution_count": 12,
   "metadata": {},
   "outputs": [
    {
     "name": "stdout",
     "output_type": "stream",
     "text": [
      "1272524/1272524 [==============================] - 22s 17us/step\n"
     ]
    },
    {
     "data": {
      "text/plain": [
       "[0.3874873031762174, 0.5154457092285156]"
      ]
     },
     "execution_count": 12,
     "metadata": {},
     "output_type": "execute_result"
    }
   ],
   "source": [
    "mod.evaluate(X_testSc,X_testSc,batch_size=64)"
   ]
  },
  {
   "cell_type": "markdown",
   "metadata": {},
   "source": [
    "#### Make Predictions"
   ]
  },
  {
   "cell_type": "code",
   "execution_count": 13,
   "metadata": {},
   "outputs": [],
   "source": [
    "predictions = mod.predict(X_testSc)\n",
    "mse = np.mean(np.power(X_testSc - predictions, 2), axis=1)\n"
   ]
  },
  {
   "cell_type": "code",
   "execution_count": 14,
   "metadata": {},
   "outputs": [
    {
     "data": {
      "text/plain": [
       "(1272524,)"
      ]
     },
     "execution_count": 14,
     "metadata": {},
     "output_type": "execute_result"
    }
   ],
   "source": [
    "mse.shape"
   ]
  },
  {
   "cell_type": "code",
   "execution_count": 15,
   "metadata": {
    "scrolled": true
   },
   "outputs": [
    {
     "data": {
      "text/html": [
       "<div>\n",
       "<style scoped>\n",
       "    .dataframe tbody tr th:only-of-type {\n",
       "        vertical-align: middle;\n",
       "    }\n",
       "\n",
       "    .dataframe tbody tr th {\n",
       "        vertical-align: top;\n",
       "    }\n",
       "\n",
       "    .dataframe thead th {\n",
       "        text-align: right;\n",
       "    }\n",
       "</style>\n",
       "<table border=\"1\" class=\"dataframe\">\n",
       "  <thead>\n",
       "    <tr style=\"text-align: right;\">\n",
       "      <th></th>\n",
       "      <th>0</th>\n",
       "    </tr>\n",
       "  </thead>\n",
       "  <tbody>\n",
       "    <tr>\n",
       "      <th>count</th>\n",
       "      <td>1.272524e+06</td>\n",
       "    </tr>\n",
       "    <tr>\n",
       "      <th>mean</th>\n",
       "      <td>3.874873e-01</td>\n",
       "    </tr>\n",
       "    <tr>\n",
       "      <th>std</th>\n",
       "      <td>7.280732e+00</td>\n",
       "    </tr>\n",
       "    <tr>\n",
       "      <th>min</th>\n",
       "      <td>3.493837e-02</td>\n",
       "    </tr>\n",
       "    <tr>\n",
       "      <th>25%</th>\n",
       "      <td>4.628693e-02</td>\n",
       "    </tr>\n",
       "    <tr>\n",
       "      <th>50%</th>\n",
       "      <td>5.442725e-02</td>\n",
       "    </tr>\n",
       "    <tr>\n",
       "      <th>75%</th>\n",
       "      <td>8.382581e-02</td>\n",
       "    </tr>\n",
       "    <tr>\n",
       "      <th>max</th>\n",
       "      <td>2.274102e+03</td>\n",
       "    </tr>\n",
       "  </tbody>\n",
       "</table>\n",
       "</div>"
      ],
      "text/plain": [
       "                  0\n",
       "count  1.272524e+06\n",
       "mean   3.874873e-01\n",
       "std    7.280732e+00\n",
       "min    3.493837e-02\n",
       "25%    4.628693e-02\n",
       "50%    5.442725e-02\n",
       "75%    8.382581e-02\n",
       "max    2.274102e+03"
      ]
     },
     "execution_count": 15,
     "metadata": {},
     "output_type": "execute_result"
    }
   ],
   "source": [
    "errorDF=pd.DataFrame(mse)\n",
    "errorDF.describe()"
   ]
  },
  {
   "cell_type": "markdown",
   "metadata": {},
   "source": [
    "#### Classifiy mse values higher than 5 as anomalies"
   ]
  },
  {
   "cell_type": "code",
   "execution_count": 16,
   "metadata": {},
   "outputs": [],
   "source": [
    "y_pred = [1 if e > 5 else 0 for e in mse]"
   ]
  },
  {
   "cell_type": "code",
   "execution_count": 17,
   "metadata": {},
   "outputs": [
    {
     "name": "stdout",
     "output_type": "stream",
     "text": [
      "              precision    recall  f1-score   support\n",
      "\n",
      "           0       1.00      0.99      0.99   1270904\n",
      "           1       0.01      0.08      0.01      1620\n",
      "\n",
      "    accuracy                           0.99   1272524\n",
      "   macro avg       0.50      0.54      0.50   1272524\n",
      "weighted avg       1.00      0.99      0.99   1272524\n",
      "\n"
     ]
    }
   ],
   "source": [
    "print(classification_report(y_test,y_pred))"
   ]
  },
  {
   "cell_type": "code",
   "execution_count": 18,
   "metadata": {},
   "outputs": [
    {
     "data": {
      "image/png": "[encoded data removed]",
      "text/plain": [
       "<Figure size 864x864 with 2 Axes>"
      ]
     },
     "metadata": {
      "needs_background": "light"
     },
     "output_type": "display_data"
    }
   ],
   "source": [
    "\n",
    "conf_matrix = confusion_matrix(y_test, y_pred)\n",
    "plt.figure(figsize=(12, 12))\n",
    "sns.heatmap(conf_matrix, xticklabels=LABELS, yticklabels=LABELS, annot=True, fmt=\"d\");\n",
    "plt.title(\"Confusion matrix\")\n",
    "plt.ylabel('True class')\n",
    "plt.xlabel('Predicted class')\n",
    "plt.show()"
   ]
  },
  {
   "cell_type": "markdown",
   "metadata": {},
   "source": [
    "### Model 2 with min max scaler"
   ]
  },
  {
   "cell_type": "code",
   "execution_count": 19,
   "metadata": {},
   "outputs": [],
   "source": [
    "model2=Sequential()"
   ]
  },
  {
   "cell_type": "code",
   "execution_count": 20,
   "metadata": {},
   "outputs": [],
   "source": [
    "model2.add(Dense(10,input_dim=19,activation='relu'))\n",
    "model2.add(Dense(2,activation='relu'))\n",
    "model2.add(Dense(19,activation='relu'))\n",
    "model2.compile(loss='mse', optimizer='adam', metrics=[\"accuracy\"])"
   ]
  },
  {
   "cell_type": "markdown",
   "metadata": {},
   "source": [
    "#### Use different Scaling Method"
   ]
  },
  {
   "cell_type": "code",
   "execution_count": 21,
   "metadata": {
    "scrolled": true
   },
   "outputs": [
    {
     "data": {
      "text/plain": [
       "array([[4.17959761e-03, 1.06565286e-01, 1.15732331e-01, ...,\n",
       "        0.00000000e+00, 0.00000000e+00, 1.00000000e+00],\n",
       "       [2.29820512e-03, 5.35465836e-03, 1.02341133e-02, ...,\n",
       "        0.00000000e+00, 0.00000000e+00, 1.00000000e+00],\n",
       "       [2.15992952e-04, 8.29323353e-05, 0.00000000e+00, ...,\n",
       "        1.00000000e+00, 0.00000000e+00, 0.00000000e+00],\n",
       "       ...,\n",
       "       [1.14436485e-04, 1.35281946e-03, 1.11475422e-03, ...,\n",
       "        0.00000000e+00, 0.00000000e+00, 0.00000000e+00],\n",
       "       [7.89878651e-04, 4.63019854e-04, 0.00000000e+00, ...,\n",
       "        1.00000000e+00, 0.00000000e+00, 0.00000000e+00],\n",
       "       [9.70288590e-04, 4.47458060e-03, 2.43489102e-03, ...,\n",
       "        0.00000000e+00, 1.00000000e+00, 0.00000000e+00]])"
      ]
     },
     "execution_count": 21,
     "metadata": {},
     "output_type": "execute_result"
    }
   ],
   "source": [
    "scaler=MinMaxScaler()\n",
    "X_trainMM = scaler.fit_transform(X_train)\n",
    "#X_trainSc=normalize(X_train)\n",
    "X_testMM = scaler.transform(X_test)\n",
    "#X_trainSc.shape\n",
    "X_trainMM"
   ]
  },
  {
   "cell_type": "code",
   "execution_count": 22,
   "metadata": {
    "scrolled": true
   },
   "outputs": [
    {
     "name": "stdout",
     "output_type": "stream",
     "text": [
      "Train on 4066802 samples, validate on 1016701 samples\n",
      "Epoch 1/10\n",
      "4066802/4066802 [==============================] - 190s 47us/step - loss: 0.0816 - accuracy: 0.1819 - val_loss: 0.0807 - val_accuracy: 0.1714\n",
      "Epoch 2/10\n",
      "4066802/4066802 [==============================] - 181s 45us/step - loss: 0.0807 - accuracy: 0.1907 - val_loss: 0.0807 - val_accuracy: 0.1713\n",
      "Epoch 3/10\n",
      "4066802/4066802 [==============================] - 183s 45us/step - loss: 0.0807 - accuracy: 0.1919 - val_loss: 0.0807 - val_accuracy: 0.1714\n",
      "Epoch 4/10\n",
      "4066802/4066802 [==============================] - 171s 42us/step - loss: 0.0807 - accuracy: 0.1937 - val_loss: 0.0807 - val_accuracy: 0.1844\n",
      "Epoch 5/10\n",
      "4066802/4066802 [==============================] - 174s 43us/step - loss: 0.0807 - accuracy: 0.1943 - val_loss: 0.0807 - val_accuracy: 0.1714\n",
      "Epoch 6/10\n",
      "4066802/4066802 [==============================] - 174s 43us/step - loss: 0.0807 - accuracy: 0.1967 - val_loss: 0.0807 - val_accuracy: 0.1714\n",
      "Epoch 7/10\n",
      "4066802/4066802 [==============================] - 174s 43us/step - loss: 0.0807 - accuracy: 0.1959 - val_loss: 0.0807 - val_accuracy: 0.2208\n",
      "Epoch 8/10\n",
      "4066802/4066802 [==============================] - 170s 42us/step - loss: 0.0807 - accuracy: 0.1960 - val_loss: 0.0811 - val_accuracy: 0.1727\n",
      "Epoch 9/10\n",
      "4066802/4066802 [==============================] - 171s 42us/step - loss: 0.0810 - accuracy: 0.1919 - val_loss: 0.0811 - val_accuracy: 0.1715\n",
      "Epoch 10/10\n",
      "4066802/4066802 [==============================] - 175s 43us/step - loss: 0.0810 - accuracy: 0.1911 - val_loss: 0.0811 - val_accuracy: 0.1713\n"
     ]
    },
    {
     "data": {
      "text/plain": [
       "<keras.callbacks.callbacks.History at 0x2b41c631ac8>"
      ]
     },
     "execution_count": 22,
     "metadata": {},
     "output_type": "execute_result"
    }
   ],
   "source": [
    "model2.fit(X_trainMM,X_trainMM,validation_split=.2,epochs=10,batch_size=64)"
   ]
  },
  {
   "cell_type": "markdown",
   "metadata": {},
   "source": [
    "#### Evaluate Model"
   ]
  },
  {
   "cell_type": "code",
   "execution_count": 23,
   "metadata": {
    "scrolled": true
   },
   "outputs": [
    {
     "name": "stdout",
     "output_type": "stream",
     "text": [
      "1272524/1272524 [==============================] - 21s 17us/step\n"
     ]
    },
    {
     "data": {
      "text/plain": [
       "[0.0810774192777728, 0.1715095341205597]"
      ]
     },
     "execution_count": 23,
     "metadata": {},
     "output_type": "execute_result"
    }
   ],
   "source": [
    "model2.evaluate(X_testMM,X_testMM,batch_size=64)"
   ]
  },
  {
   "cell_type": "code",
   "execution_count": 24,
   "metadata": {},
   "outputs": [],
   "source": [
    "predictions2 = model2.predict(X_testMM)\n",
    "mse2 = np.mean(np.power(X_testMM - predictions2, 2), axis=1)\n"
   ]
  },
  {
   "cell_type": "code",
   "execution_count": 25,
   "metadata": {},
   "outputs": [
    {
     "data": {
      "text/html": [
       "<div>\n",
       "<style scoped>\n",
       "    .dataframe tbody tr th:only-of-type {\n",
       "        vertical-align: middle;\n",
       "    }\n",
       "\n",
       "    .dataframe tbody tr th {\n",
       "        vertical-align: top;\n",
       "    }\n",
       "\n",
       "    .dataframe thead th {\n",
       "        text-align: right;\n",
       "    }\n",
       "</style>\n",
       "<table border=\"1\" class=\"dataframe\">\n",
       "  <thead>\n",
       "    <tr style=\"text-align: right;\">\n",
       "      <th></th>\n",
       "      <th>0</th>\n",
       "    </tr>\n",
       "  </thead>\n",
       "  <tbody>\n",
       "    <tr>\n",
       "      <th>count</th>\n",
       "      <td>1.272524e+06</td>\n",
       "    </tr>\n",
       "    <tr>\n",
       "      <th>mean</th>\n",
       "      <td>8.107742e-02</td>\n",
       "    </tr>\n",
       "    <tr>\n",
       "      <th>std</th>\n",
       "      <td>4.809518e-02</td>\n",
       "    </tr>\n",
       "    <tr>\n",
       "      <th>min</th>\n",
       "      <td>5.775979e-06</td>\n",
       "    </tr>\n",
       "    <tr>\n",
       "      <th>25%</th>\n",
       "      <td>5.322084e-02</td>\n",
       "    </tr>\n",
       "    <tr>\n",
       "      <th>50%</th>\n",
       "      <td>5.680235e-02</td>\n",
       "    </tr>\n",
       "    <tr>\n",
       "      <th>75%</th>\n",
       "      <td>1.078792e-01</td>\n",
       "    </tr>\n",
       "    <tr>\n",
       "      <th>max</th>\n",
       "      <td>1.816127e-01</td>\n",
       "    </tr>\n",
       "  </tbody>\n",
       "</table>\n",
       "</div>"
      ],
      "text/plain": [
       "                  0\n",
       "count  1.272524e+06\n",
       "mean   8.107742e-02\n",
       "std    4.809518e-02\n",
       "min    5.775979e-06\n",
       "25%    5.322084e-02\n",
       "50%    5.680235e-02\n",
       "75%    1.078792e-01\n",
       "max    1.816127e-01"
      ]
     },
     "execution_count": 25,
     "metadata": {},
     "output_type": "execute_result"
    }
   ],
   "source": [
    "errorDF2=pd.DataFrame(mse2)\n",
    "errorDF2.describe()"
   ]
  },
  {
   "cell_type": "markdown",
   "metadata": {},
   "source": [
    "#### Mark mse values greater than 3 as anomaly"
   ]
  },
  {
   "cell_type": "code",
   "execution_count": 26,
   "metadata": {},
   "outputs": [],
   "source": [
    "y_pred2 = [1 if e > 3 else 0 for e in mse2]"
   ]
  },
  {
   "cell_type": "code",
   "execution_count": 27,
   "metadata": {},
   "outputs": [
    {
     "data": {
      "text/plain": [
       "[0,\n",
       " 0,\n",
       " 0,\n",
       " 0,\n",
       " 0,\n",
       " 0,\n",
       " 0,\n",
       " 0,\n",
       " 0,\n",
       " 0,\n",
       " 0,\n",
       " 0,\n",
       " 0,\n",
       " 0,\n",
       " 0,\n",
       " 0,\n",
       " 0,\n",
       " 0,\n",
       " 0,\n",
       " 0,\n",
       " 0,\n",
       " 0,\n",
       " 0,\n",
       " 0,\n",
       " 0,\n",
       " 0,\n",
       " 0,\n",
       " 0,\n",
       " 0,\n",
       " 0,\n",
       " 0,\n",
       " 0,\n",
       " 0,\n",
       " 0,\n",
       " 0,\n",
       " 0,\n",
       " 0,\n",
       " 0,\n",
       " 0,\n",
       " 0,\n",
       " 0,\n",
       " 0,\n",
       " 0,\n",
       " 0,\n",
       " 0,\n",
       " 0,\n",
       " 0,\n",
       " 0,\n",
       " 0,\n",
       " 0,\n",
       " 0,\n",
       " 0,\n",
       " 0,\n",
       " 0,\n",
       " 0,\n",
       " 0,\n",
       " 0,\n",
       " 0,\n",
       " 0,\n",
       " 0,\n",
       " 0,\n",
       " 0,\n",
       " 0,\n",
       " 0,\n",
       " 0,\n",
       " 0,\n",
       " 0,\n",
       " 0,\n",
       " 0,\n",
       " 0,\n",
       " 0,\n",
       " 0,\n",
       " 0,\n",
       " 0,\n",
       " 0,\n",
       " 0,\n",
       " 0,\n",
       " 0,\n",
       " 0,\n",
       " 0,\n",
       " 0,\n",
       " 0,\n",
       " 0,\n",
       " 0,\n",
       " 0,\n",
       " 0,\n",
       " 0,\n",
       " 0,\n",
       " 0,\n",
       " 0,\n",
       " 0,\n",
       " 0,\n",
       " 0,\n",
       " 0,\n",
       " 0,\n",
       " 0,\n",
       " 0,\n",
       " 0,\n",
       " 0,\n",
       " 0,\n",
       " 0,\n",
       " 0,\n",
       " 0,\n",
       " 0,\n",
       " 0,\n",
       " 0,\n",
       " 0,\n",
       " 0,\n",
       " 0,\n",
       " 0,\n",
       " 0,\n",
       " 0,\n",
       " 0,\n",
       " 0,\n",
       " 0,\n",
       " 0,\n",
       " 0,\n",
       " 0,\n",
       " 0,\n",
       " 0,\n",
       " 0,\n",
       " 0,\n",
       " 0,\n",
       " 0,\n",
       " 0,\n",
       " 0,\n",
       " 0,\n",
       " 0,\n",
       " 0,\n",
       " 0,\n",
       " 0,\n",
       " 0,\n",
       " 0,\n",
       " 0,\n",
       " 0,\n",
       " 0,\n",
       " 0,\n",
       " 0,\n",
       " 0,\n",
       " 0,\n",
       " 0,\n",
       " 0,\n",
       " 0,\n",
       " 0,\n",
       " 0,\n",
       " 0,\n",
       " 0,\n",
       " 0,\n",
       " 0,\n",
       " 0,\n",
       " 0,\n",
       " 0,\n",
       " 0,\n",
       " 0,\n",
       " 0,\n",
       " 0,\n",
       " 0,\n",
       " 0,\n",
       " 0,\n",
       " 0,\n",
       " 0,\n",
       " 0,\n",
       " 0,\n",
       " 0,\n",
       " 0,\n",
       " 0,\n",
       " 0,\n",
       " 0,\n",
       " 0,\n",
       " 0,\n",
       " 0,\n",
       " 0,\n",
       " 0,\n",
       " 0,\n",
       " 0,\n",
       " 0,\n",
       " 0,\n",
       " 0,\n",
       " 0,\n",
       " 0,\n",
       " 0,\n",
       " 0,\n",
       " 0,\n",
       " 0,\n",
       " 0,\n",
       " 0,\n",
       " 0,\n",
       " 0,\n",
       " 0,\n",
       " 0,\n",
       " 0,\n",
       " 0,\n",
       " 0,\n",
       " 0,\n",
       " 0,\n",
       " 0,\n",
       " 0,\n",
       " 0,\n",
       " 0,\n",
       " 0,\n",
       " 0,\n",
       " 0,\n",
       " 0,\n",
       " 0,\n",
       " 0,\n",
       " 0,\n",
       " 0,\n",
       " 0,\n",
       " 0,\n",
       " 0,\n",
       " 0,\n",
       " 0,\n",
       " 0,\n",
       " 0,\n",
       " 0,\n",
       " 0,\n",
       " 0,\n",
       " 0,\n",
       " 0,\n",
       " 0,\n",
       " 0,\n",
       " 0,\n",
       " 0,\n",
       " 0,\n",
       " 0,\n",
       " 0,\n",
       " 0,\n",
       " 0,\n",
       " 0,\n",
       " 0,\n",
       " 0,\n",
       " 0,\n",
       " 0,\n",
       " 0,\n",
       " 0,\n",
       " 0,\n",
       " 0,\n",
       " 0,\n",
       " 0,\n",
       " 0,\n",
       " 0,\n",
       " 0,\n",
       " 0,\n",
       " 0,\n",
       " 0,\n",
       " 0,\n",
       " 0,\n",
       " 0,\n",
       " 0,\n",
       " 0,\n",
       " 0,\n",
       " 0,\n",
       " 0,\n",
       " 0,\n",
       " 0,\n",
       " 0,\n",
       " 0,\n",
       " 0,\n",
       " 0,\n",
       " 0,\n",
       " 0,\n",
       " 0,\n",
       " 0,\n",
       " 0,\n",
       " 0,\n",
       " 0,\n",
       " 0,\n",
       " 0,\n",
       " 0,\n",
       " 0,\n",
       " 0,\n",
       " 0,\n",
       " 0,\n",
       " 0,\n",
       " 0,\n",
       " 0,\n",
       " 0,\n",
       " 0,\n",
       " 0,\n",
       " 0,\n",
       " 0,\n",
       " 0,\n",
       " 0,\n",
       " 0,\n",
       " 0,\n",
       " 0,\n",
       " 0,\n",
       " 0,\n",
       " 0,\n",
       " 0,\n",
       " 0,\n",
       " 0,\n",
       " 0,\n",
       " 0,\n",
       " 0,\n",
       " 0,\n",
       " 0,\n",
       " 0,\n",
       " 0,\n",
       " 0,\n",
       " 0,\n",
       " 0,\n",
       " 0,\n",
       " 0,\n",
       " 0,\n",
       " 0,\n",
       " 0,\n",
       " 0,\n",
       " 0,\n",
       " 0,\n",
       " 0,\n",
       " 0,\n",
       " 0,\n",
       " 0,\n",
       " 0,\n",
       " 0,\n",
       " 0,\n",
       " 0,\n",
       " 0,\n",
       " 0,\n",
       " 0,\n",
       " 0,\n",
       " 0,\n",
       " 0,\n",
       " 0,\n",
       " 0,\n",
       " 0,\n",
       " 0,\n",
       " 0,\n",
       " 0,\n",
       " 0,\n",
       " 0,\n",
       " 0,\n",
       " 0,\n",
       " 0,\n",
       " 0,\n",
       " 0,\n",
       " 0,\n",
       " 0,\n",
       " 0,\n",
       " 0,\n",
       " 0,\n",
       " 0,\n",
       " 0,\n",
       " 0,\n",
       " 0,\n",
       " 0,\n",
       " 0,\n",
       " 0,\n",
       " 0,\n",
       " 0,\n",
       " 0,\n",
       " 0,\n",
       " 0,\n",
       " 0,\n",
       " 0,\n",
       " 0,\n",
       " 0,\n",
       " 0,\n",
       " 0,\n",
       " 0,\n",
       " 0,\n",
       " 0,\n",
       " 0,\n",
       " 0,\n",
       " 0,\n",
       " 0,\n",
       " 0,\n",
       " 0,\n",
       " 0,\n",
       " 0,\n",
       " 0,\n",
       " 0,\n",
       " 0,\n",
       " 0,\n",
       " 0,\n",
       " 0,\n",
       " 0,\n",
       " 0,\n",
       " 0,\n",
       " 0,\n",
       " 0,\n",
       " 0,\n",
       " 0,\n",
       " 0,\n",
       " 0,\n",
       " 0,\n",
       " 0,\n",
       " 0,\n",
       " 0,\n",
       " 0,\n",
       " 0,\n",
       " 0,\n",
       " 0,\n",
       " 0,\n",
       " 0,\n",
       " 0,\n",
       " 0,\n",
       " 0,\n",
       " 0,\n",
       " 0,\n",
       " 0,\n",
       " 0,\n",
       " 0,\n",
       " 0,\n",
       " 0,\n",
       " 0,\n",
       " 0,\n",
       " 0,\n",
       " 0,\n",
       " 0,\n",
       " 0,\n",
       " 0,\n",
       " 0,\n",
       " 0,\n",
       " 0,\n",
       " 0,\n",
       " 0,\n",
       " 0,\n",
       " 0,\n",
       " 0,\n",
       " 0,\n",
       " 0,\n",
       " 0,\n",
       " 0,\n",
       " 0,\n",
       " 0,\n",
       " 0,\n",
       " 0,\n",
       " 0,\n",
       " 0,\n",
       " 0,\n",
       " 0,\n",
       " 0,\n",
       " 0,\n",
       " 0,\n",
       " 0,\n",
       " 0,\n",
       " 0,\n",
       " 0,\n",
       " 0,\n",
       " 0,\n",
       " 0,\n",
       " 0,\n",
       " 0,\n",
       " 0,\n",
       " 0,\n",
       " 0,\n",
       " 0,\n",
       " 0,\n",
       " 0,\n",
       " 0,\n",
       " 0,\n",
       " 0,\n",
       " 0,\n",
       " 0,\n",
       " 0,\n",
       " 0,\n",
       " 0,\n",
       " 0,\n",
       " 0,\n",
       " 0,\n",
       " 0,\n",
       " 0,\n",
       " 0,\n",
       " 0,\n",
       " 0,\n",
       " 0,\n",
       " 0,\n",
       " 0,\n",
       " 0,\n",
       " 0,\n",
       " 0,\n",
       " 0,\n",
       " 0,\n",
       " 0,\n",
       " 0,\n",
       " 0,\n",
       " 0,\n",
       " 0,\n",
       " 0,\n",
       " 0,\n",
       " 0,\n",
       " 0,\n",
       " 0,\n",
       " 0,\n",
       " 0,\n",
       " 0,\n",
       " 0,\n",
       " 0,\n",
       " 0,\n",
       " 0,\n",
       " 0,\n",
       " 0,\n",
       " 0,\n",
       " 0,\n",
       " 0,\n",
       " 0,\n",
       " 0,\n",
       " 0,\n",
       " 0,\n",
       " 0,\n",
       " 0,\n",
       " 0,\n",
       " 0,\n",
       " 0,\n",
       " 0,\n",
       " 0,\n",
       " 0,\n",
       " 0,\n",
       " 0,\n",
       " 0,\n",
       " 0,\n",
       " 0,\n",
       " 0,\n",
       " 0,\n",
       " 0,\n",
       " 0,\n",
       " 0,\n",
       " 0,\n",
       " 0,\n",
       " 0,\n",
       " 0,\n",
       " 0,\n",
       " 0,\n",
       " 0,\n",
       " 0,\n",
       " 0,\n",
       " 0,\n",
       " 0,\n",
       " 0,\n",
       " 0,\n",
       " 0,\n",
       " 0,\n",
       " 0,\n",
       " 0,\n",
       " 0,\n",
       " 0,\n",
       " 0,\n",
       " 0,\n",
       " 0,\n",
       " 0,\n",
       " 0,\n",
       " 0,\n",
       " 0,\n",
       " 0,\n",
       " 0,\n",
       " 0,\n",
       " 0,\n",
       " 0,\n",
       " 0,\n",
       " 0,\n",
       " 0,\n",
       " 0,\n",
       " 0,\n",
       " 0,\n",
       " 0,\n",
       " 0,\n",
       " 0,\n",
       " 0,\n",
       " 0,\n",
       " 0,\n",
       " 0,\n",
       " 0,\n",
       " 0,\n",
       " 0,\n",
       " 0,\n",
       " 0,\n",
       " 0,\n",
       " 0,\n",
       " 0,\n",
       " 0,\n",
       " 0,\n",
       " 0,\n",
       " 0,\n",
       " 0,\n",
       " 0,\n",
       " 0,\n",
       " 0,\n",
       " 0,\n",
       " 0,\n",
       " 0,\n",
       " 0,\n",
       " 0,\n",
       " 0,\n",
       " 0,\n",
       " 0,\n",
       " 0,\n",
       " 0,\n",
       " 0,\n",
       " 0,\n",
       " 0,\n",
       " 0,\n",
       " 0,\n",
       " 0,\n",
       " 0,\n",
       " 0,\n",
       " 0,\n",
       " 0,\n",
       " 0,\n",
       " 0,\n",
       " 0,\n",
       " 0,\n",
       " 0,\n",
       " 0,\n",
       " 0,\n",
       " 0,\n",
       " 0,\n",
       " 0,\n",
       " 0,\n",
       " 0,\n",
       " 0,\n",
       " 0,\n",
       " 0,\n",
       " 0,\n",
       " 0,\n",
       " 0,\n",
       " 0,\n",
       " 0,\n",
       " 0,\n",
       " 0,\n",
       " 0,\n",
       " 0,\n",
       " 0,\n",
       " 0,\n",
       " 0,\n",
       " 0,\n",
       " 0,\n",
       " 0,\n",
       " 0,\n",
       " 0,\n",
       " 0,\n",
       " 0,\n",
       " 0,\n",
       " 0,\n",
       " 0,\n",
       " 0,\n",
       " 0,\n",
       " 0,\n",
       " 0,\n",
       " 0,\n",
       " 0,\n",
       " 0,\n",
       " 0,\n",
       " 0,\n",
       " 0,\n",
       " 0,\n",
       " 0,\n",
       " 0,\n",
       " 0,\n",
       " 0,\n",
       " 0,\n",
       " 0,\n",
       " 0,\n",
       " 0,\n",
       " 0,\n",
       " 0,\n",
       " 0,\n",
       " 0,\n",
       " 0,\n",
       " 0,\n",
       " 0,\n",
       " 0,\n",
       " 0,\n",
       " 0,\n",
       " 0,\n",
       " 0,\n",
       " 0,\n",
       " 0,\n",
       " 0,\n",
       " 0,\n",
       " 0,\n",
       " 0,\n",
       " 0,\n",
       " 0,\n",
       " 0,\n",
       " 0,\n",
       " 0,\n",
       " 0,\n",
       " 0,\n",
       " 0,\n",
       " 0,\n",
       " 0,\n",
       " 0,\n",
       " 0,\n",
       " 0,\n",
       " 0,\n",
       " 0,\n",
       " 0,\n",
       " 0,\n",
       " 0,\n",
       " 0,\n",
       " 0,\n",
       " 0,\n",
       " 0,\n",
       " 0,\n",
       " 0,\n",
       " 0,\n",
       " 0,\n",
       " 0,\n",
       " 0,\n",
       " 0,\n",
       " 0,\n",
       " 0,\n",
       " 0,\n",
       " 0,\n",
       " 0,\n",
       " 0,\n",
       " 0,\n",
       " 0,\n",
       " 0,\n",
       " 0,\n",
       " 0,\n",
       " 0,\n",
       " 0,\n",
       " 0,\n",
       " 0,\n",
       " 0,\n",
       " 0,\n",
       " 0,\n",
       " 0,\n",
       " 0,\n",
       " 0,\n",
       " 0,\n",
       " 0,\n",
       " 0,\n",
       " 0,\n",
       " 0,\n",
       " 0,\n",
       " 0,\n",
       " 0,\n",
       " 0,\n",
       " 0,\n",
       " 0,\n",
       " 0,\n",
       " 0,\n",
       " 0,\n",
       " 0,\n",
       " 0,\n",
       " 0,\n",
       " 0,\n",
       " 0,\n",
       " 0,\n",
       " 0,\n",
       " 0,\n",
       " 0,\n",
       " 0,\n",
       " 0,\n",
       " 0,\n",
       " 0,\n",
       " 0,\n",
       " 0,\n",
       " 0,\n",
       " 0,\n",
       " 0,\n",
       " 0,\n",
       " 0,\n",
       " 0,\n",
       " 0,\n",
       " 0,\n",
       " 0,\n",
       " 0,\n",
       " 0,\n",
       " 0,\n",
       " 0,\n",
       " 0,\n",
       " 0,\n",
       " 0,\n",
       " 0,\n",
       " 0,\n",
       " 0,\n",
       " 0,\n",
       " 0,\n",
       " 0,\n",
       " 0,\n",
       " 0,\n",
       " 0,\n",
       " 0,\n",
       " 0,\n",
       " 0,\n",
       " 0,\n",
       " 0,\n",
       " 0,\n",
       " 0,\n",
       " 0,\n",
       " 0,\n",
       " 0,\n",
       " 0,\n",
       " 0,\n",
       " 0,\n",
       " 0,\n",
       " 0,\n",
       " 0,\n",
       " 0,\n",
       " 0,\n",
       " 0,\n",
       " 0,\n",
       " 0,\n",
       " 0,\n",
       " 0,\n",
       " 0,\n",
       " 0,\n",
       " 0,\n",
       " 0,\n",
       " 0,\n",
       " 0,\n",
       " 0,\n",
       " 0,\n",
       " 0,\n",
       " 0,\n",
       " 0,\n",
       " 0,\n",
       " 0,\n",
       " 0,\n",
       " 0,\n",
       " 0,\n",
       " 0,\n",
       " 0,\n",
       " 0,\n",
       " 0,\n",
       " 0,\n",
       " 0,\n",
       " 0,\n",
       " 0,\n",
       " 0,\n",
       " 0,\n",
       " 0,\n",
       " 0,\n",
       " 0,\n",
       " 0,\n",
       " 0,\n",
       " 0,\n",
       " 0,\n",
       " 0,\n",
       " 0,\n",
       " 0,\n",
       " 0,\n",
       " 0,\n",
       " 0,\n",
       " 0,\n",
       " 0,\n",
       " 0,\n",
       " 0,\n",
       " 0,\n",
       " 0,\n",
       " 0,\n",
       " 0,\n",
       " 0,\n",
       " 0,\n",
       " 0,\n",
       " 0,\n",
       " 0,\n",
       " 0,\n",
       " 0,\n",
       " 0,\n",
       " 0,\n",
       " 0,\n",
       " 0,\n",
       " 0,\n",
       " 0,\n",
       " 0,\n",
       " 0,\n",
       " 0,\n",
       " 0,\n",
       " 0,\n",
       " 0,\n",
       " 0,\n",
       " 0,\n",
       " 0,\n",
       " 0,\n",
       " 0,\n",
       " 0,\n",
       " 0,\n",
       " 0,\n",
       " 0,\n",
       " 0,\n",
       " 0,\n",
       " 0,\n",
       " 0,\n",
       " 0,\n",
       " 0,\n",
       " 0,\n",
       " 0,\n",
       " 0,\n",
       " 0,\n",
       " 0,\n",
       " 0,\n",
       " 0,\n",
       " 0,\n",
       " 0,\n",
       " 0,\n",
       " 0,\n",
       " 0,\n",
       " 0,\n",
       " 0,\n",
       " 0,\n",
       " 0,\n",
       " 0,\n",
       " 0,\n",
       " 0,\n",
       " 0,\n",
       " 0,\n",
       " 0,\n",
       " 0,\n",
       " 0,\n",
       " 0,\n",
       " 0,\n",
       " 0,\n",
       " 0,\n",
       " 0,\n",
       " 0,\n",
       " 0,\n",
       " 0,\n",
       " 0,\n",
       " 0,\n",
       " 0,\n",
       " 0,\n",
       " 0,\n",
       " 0,\n",
       " 0,\n",
       " 0,\n",
       " 0,\n",
       " 0,\n",
       " 0,\n",
       " 0,\n",
       " 0,\n",
       " 0,\n",
       " 0,\n",
       " 0,\n",
       " 0,\n",
       " 0,\n",
       " 0,\n",
       " 0,\n",
       " 0,\n",
       " 0,\n",
       " 0,\n",
       " 0,\n",
       " 0,\n",
       " 0,\n",
       " 0,\n",
       " 0,\n",
       " 0,\n",
       " 0,\n",
       " 0,\n",
       " 0,\n",
       " 0,\n",
       " 0,\n",
       " 0,\n",
       " 0,\n",
       " 0,\n",
       " 0,\n",
       " 0,\n",
       " 0,\n",
       " 0,\n",
       " 0,\n",
       " 0,\n",
       " 0,\n",
       " 0,\n",
       " 0,\n",
       " 0,\n",
       " 0,\n",
       " 0,\n",
       " 0,\n",
       " 0,\n",
       " 0,\n",
       " 0,\n",
       " 0,\n",
       " 0,\n",
       " 0,\n",
       " 0,\n",
       " 0,\n",
       " 0,\n",
       " 0,\n",
       " 0,\n",
       " 0,\n",
       " 0,\n",
       " 0,\n",
       " 0,\n",
       " 0,\n",
       " 0,\n",
       " 0,\n",
       " 0,\n",
       " 0,\n",
       " 0,\n",
       " 0,\n",
       " 0,\n",
       " 0,\n",
       " 0,\n",
       " 0,\n",
       " 0,\n",
       " 0,\n",
       " 0,\n",
       " 0,\n",
       " 0,\n",
       " 0,\n",
       " 0,\n",
       " 0,\n",
       " 0,\n",
       " 0,\n",
       " 0,\n",
       " ...]"
      ]
     },
     "execution_count": 27,
     "metadata": {},
     "output_type": "execute_result"
    }
   ],
   "source": [
    "y_pred2"
   ]
  },
  {
   "cell_type": "code",
   "execution_count": 28,
   "metadata": {},
   "outputs": [
    {
     "data": {
      "image/png": "[encoded data removed]",
      "text/plain": [
       "<Figure size 864x864 with 2 Axes>"
      ]
     },
     "metadata": {
      "needs_background": "light"
     },
     "output_type": "display_data"
    }
   ],
   "source": [
    "conf_matrix = confusion_matrix(y_test, y_pred2)\n",
    "plt.figure(figsize=(12, 12))\n",
    "sns.heatmap(conf_matrix, xticklabels=LABELS, yticklabels=LABELS, annot=True, fmt=\"d\");\n",
    "plt.title(\"Confusion matrix\")\n",
    "plt.ylabel('True class')\n",
    "plt.xlabel('Predicted class')\n",
    "plt.show()"
   ]
  },
  {
   "cell_type": "code",
   "execution_count": 29,
   "metadata": {},
   "outputs": [
    {
     "name": "stderr",
     "output_type": "stream",
     "text": [
      "C:\\Users\\glory\\Anaconda3\\lib\\site-packages\\sklearn\\metrics\\classification.py:1437: UndefinedMetricWarning: Precision and F-score are ill-defined and being set to 0.0 in labels with no predicted samples.\n",
      "  'precision', 'predicted', average, warn_for)\n"
     ]
    },
    {
     "name": "stdout",
     "output_type": "stream",
     "text": [
      "              precision    recall  f1-score   support\n",
      "\n",
      "           0       1.00      1.00      1.00   1270904\n",
      "           1       0.00      0.00      0.00      1620\n",
      "\n",
      "    accuracy                           1.00   1272524\n",
      "   macro avg       0.50      0.50      0.50   1272524\n",
      "weighted avg       1.00      1.00      1.00   1272524\n",
      "\n"
     ]
    }
   ],
   "source": [
    "print(classification_report(y_test,y_pred2))"
   ]
  },
  {
   "cell_type": "code",
   "execution_count": 30,
   "metadata": {
    "scrolled": true
   },
   "outputs": [
    {
     "data": {
      "text/plain": [
       "0    1270904\n",
       "1       1620\n",
       "Name: isFraud, dtype: int64"
      ]
     },
     "execution_count": 30,
     "metadata": {},
     "output_type": "execute_result"
    }
   ],
   "source": [
    "y_test.value_counts()"
   ]
  },
  {
   "cell_type": "markdown",
   "metadata": {},
   "source": [
    "### Model 3 more layers"
   ]
  },
  {
   "cell_type": "code",
   "execution_count": 31,
   "metadata": {},
   "outputs": [],
   "source": [
    "model3=Sequential()"
   ]
  },
  {
   "cell_type": "code",
   "execution_count": 32,
   "metadata": {},
   "outputs": [],
   "source": [
    "model3.add(Dense(19,input_dim=19,activation='relu'))\n",
    "model3.add(Dense(10,activation='relu'))\n",
    "model3.add(Dense(4,activation='relu'))\n",
    "model3.add(Dense(10,activation='relu'))\n",
    "model3.add(Dense(19,activation='relu'))\n",
    "model3.compile(loss='mse', optimizer='adam', metrics=[\"accuracy\"])"
   ]
  },
  {
   "cell_type": "code",
   "execution_count": 33,
   "metadata": {
    "scrolled": true
   },
   "outputs": [
    {
     "name": "stdout",
     "output_type": "stream",
     "text": [
      "Train on 4066802 samples, validate on 1016701 samples\n",
      "Epoch 1/10\n",
      "4066802/4066802 [==============================] - 219s 54us/step - loss: 0.0369 - accuracy: 0.1872 - val_loss: 0.0361 - val_accuracy: 0.0823\n",
      "Epoch 2/10\n",
      "4066802/4066802 [==============================] - 228s 56us/step - loss: 0.0360 - accuracy: 0.1968 - val_loss: 0.0361 - val_accuracy: 0.1884\n",
      "Epoch 3/10\n",
      "4066802/4066802 [==============================] - 238s 58us/step - loss: 0.0360 - accuracy: 0.2008 - val_loss: 0.0361 - val_accuracy: 0.2545\n",
      "Epoch 4/10\n",
      "4066802/4066802 [==============================] - 232s 57us/step - loss: 0.0360 - accuracy: 0.2032 - val_loss: 0.0361 - val_accuracy: 0.2712\n",
      "Epoch 5/10\n",
      "4066802/4066802 [==============================] - 236s 58us/step - loss: 0.0360 - accuracy: 0.2035 - val_loss: 0.0361 - val_accuracy: 0.0652\n",
      "Epoch 6/10\n",
      "4066802/4066802 [==============================] - 284s 70us/step - loss: 0.0360 - accuracy: 0.2048 - val_loss: 0.0361 - val_accuracy: 0.1310\n",
      "Epoch 7/10\n",
      "4066802/4066802 [==============================] - 390s 96us/step - loss: 0.0360 - accuracy: 0.2047 - val_loss: 0.0361 - val_accuracy: 0.4096\n",
      "Epoch 8/10\n",
      "4066802/4066802 [==============================] - 223s 55us/step - loss: 0.0360 - accuracy: 0.2038 - val_loss: 0.0361 - val_accuracy: 0.2116\n",
      "Epoch 9/10\n",
      "4066802/4066802 [==============================] - 227s 56us/step - loss: 0.0360 - accuracy: 0.2027 - val_loss: 0.0361 - val_accuracy: 0.4191\n",
      "Epoch 10/10\n",
      "4066802/4066802 [==============================] - 236s 58us/step - loss: 0.0360 - accuracy: 0.2026 - val_loss: 0.0361 - val_accuracy: 0.0913\n"
     ]
    },
    {
     "data": {
      "text/plain": [
       "<keras.callbacks.callbacks.History at 0x2b462cb4c50>"
      ]
     },
     "execution_count": 33,
     "metadata": {},
     "output_type": "execute_result"
    }
   ],
   "source": [
    "model3.fit(X_trainMM,X_trainMM,validation_split=.2,epochs=10,batch_size=64)"
   ]
  },
  {
   "cell_type": "code",
   "execution_count": 34,
   "metadata": {},
   "outputs": [
    {
     "name": "stdout",
     "output_type": "stream",
     "text": [
      "1272524/1272524 [==============================] - 47s 37us/step\n"
     ]
    },
    {
     "data": {
      "text/plain": [
       "[0.036056655890777736, 0.09195347130298615]"
      ]
     },
     "execution_count": 34,
     "metadata": {},
     "output_type": "execute_result"
    }
   ],
   "source": [
    "model3.evaluate(X_testMM,X_testMM)"
   ]
  },
  {
   "cell_type": "markdown",
   "metadata": {},
   "source": [
    "#### Not good enough accuracy, not moving forward"
   ]
  },
  {
   "cell_type": "markdown",
   "metadata": {},
   "source": [
    "### Model 4 less layers using different activation"
   ]
  },
  {
   "cell_type": "code",
   "execution_count": 35,
   "metadata": {},
   "outputs": [],
   "source": [
    "model4=Sequential()"
   ]
  },
  {
   "cell_type": "code",
   "execution_count": 36,
   "metadata": {},
   "outputs": [],
   "source": [
    "model4.add(Dense(19,input_dim=19,activation='tanh'))\n",
    "model4.add(Dense(4,activation='relu'))\n",
    "model4.add(Dense(19,activation='tanh'))\n",
    "model4.compile(loss='mse', optimizer='adam', metrics=[\"accuracy\"])"
   ]
  },
  {
   "cell_type": "code",
   "execution_count": 37,
   "metadata": {
    "scrolled": true
   },
   "outputs": [
    {
     "name": "stdout",
     "output_type": "stream",
     "text": [
      "Train on 4066802 samples, validate on 1016701 samples\n",
      "Epoch 1/10\n",
      "4066802/4066802 [==============================] - 173s 42us/step - loss: 0.0141 - accuracy: 0.4261 - val_loss: 0.0104 - val_accuracy: 0.4792\n",
      "Epoch 2/10\n",
      "4066802/4066802 [==============================] - 186s 46us/step - loss: 0.0104 - accuracy: 0.4792 - val_loss: 0.0104 - val_accuracy: 0.4792\n",
      "Epoch 3/10\n",
      "4066802/4066802 [==============================] - 213s 52us/step - loss: 0.0104 - accuracy: 0.4792 - val_loss: 0.0104 - val_accuracy: 0.4792\n",
      "Epoch 4/10\n",
      "4066802/4066802 [==============================] - 176s 43us/step - loss: 0.0104 - accuracy: 0.4792 - val_loss: 0.0104 - val_accuracy: 0.4792\n",
      "Epoch 5/10\n",
      "4066802/4066802 [==============================] - 180s 44us/step - loss: 0.0104 - accuracy: 0.4792 - val_loss: 0.0104 - val_accuracy: 0.4792\n",
      "Epoch 6/10\n",
      "4066802/4066802 [==============================] - 240s 59us/step - loss: 0.0104 - accuracy: 0.4792 - val_loss: 0.0104 - val_accuracy: 0.4792\n",
      "Epoch 7/10\n",
      "4066802/4066802 [==============================] - 190s 47us/step - loss: 0.0104 - accuracy: 0.5790 - val_loss: 0.0104 - val_accuracy: 0.7149\n",
      "Epoch 8/10\n",
      "4066802/4066802 [==============================] - 200s 49us/step - loss: 0.0104 - accuracy: 0.7115 - val_loss: 0.0104 - val_accuracy: 0.7149\n",
      "Epoch 9/10\n",
      "4066802/4066802 [==============================] - 212s 52us/step - loss: 0.0104 - accuracy: 0.7147 - val_loss: 0.0103 - val_accuracy: 0.7149\n",
      "Epoch 10/10\n",
      "4066802/4066802 [==============================] - 198s 49us/step - loss: 0.0103 - accuracy: 0.7145 - val_loss: 0.0103 - val_accuracy: 0.7208\n"
     ]
    }
   ],
   "source": [
    "history4=model4.fit(X_trainMM,X_trainMM,validation_split=.2,epochs=10,batch_size=64).history"
   ]
  },
  {
   "cell_type": "code",
   "execution_count": 38,
   "metadata": {
    "scrolled": true
   },
   "outputs": [
    {
     "name": "stdout",
     "output_type": "stream",
     "text": [
      "1272524/1272524 [==============================] - 36s 28us/step\n"
     ]
    },
    {
     "data": {
      "text/plain": [
       "[0.010355501669921935, 0.7211809158325195]"
      ]
     },
     "execution_count": 38,
     "metadata": {},
     "output_type": "execute_result"
    }
   ],
   "source": [
    "model4.evaluate(X_testMM,X_testMM)"
   ]
  },
  {
   "cell_type": "code",
   "execution_count": 39,
   "metadata": {},
   "outputs": [],
   "source": [
    "predictions4 = model4.predict(X_testMM)\n",
    "mse4 = np.mean(np.power(X_testMM - predictions4, 2), axis=1)\n"
   ]
  },
  {
   "cell_type": "code",
   "execution_count": 40,
   "metadata": {},
   "outputs": [
    {
     "data": {
      "text/html": [
       "<div>\n",
       "<style scoped>\n",
       "    .dataframe tbody tr th:only-of-type {\n",
       "        vertical-align: middle;\n",
       "    }\n",
       "\n",
       "    .dataframe tbody tr th {\n",
       "        vertical-align: top;\n",
       "    }\n",
       "\n",
       "    .dataframe thead th {\n",
       "        text-align: right;\n",
       "    }\n",
       "</style>\n",
       "<table border=\"1\" class=\"dataframe\">\n",
       "  <thead>\n",
       "    <tr style=\"text-align: right;\">\n",
       "      <th></th>\n",
       "      <th>0</th>\n",
       "    </tr>\n",
       "  </thead>\n",
       "  <tbody>\n",
       "    <tr>\n",
       "      <th>count</th>\n",
       "      <td>1.272524e+06</td>\n",
       "    </tr>\n",
       "    <tr>\n",
       "      <th>mean</th>\n",
       "      <td>1.035550e-02</td>\n",
       "    </tr>\n",
       "    <tr>\n",
       "      <th>std</th>\n",
       "      <td>2.188117e-02</td>\n",
       "    </tr>\n",
       "    <tr>\n",
       "      <th>min</th>\n",
       "      <td>1.406590e-05</td>\n",
       "    </tr>\n",
       "    <tr>\n",
       "      <th>25%</th>\n",
       "      <td>1.324219e-03</td>\n",
       "    </tr>\n",
       "    <tr>\n",
       "      <th>50%</th>\n",
       "      <td>3.758831e-03</td>\n",
       "    </tr>\n",
       "    <tr>\n",
       "      <th>75%</th>\n",
       "      <td>6.854136e-03</td>\n",
       "    </tr>\n",
       "    <tr>\n",
       "      <th>max</th>\n",
       "      <td>1.751433e-01</td>\n",
       "    </tr>\n",
       "  </tbody>\n",
       "</table>\n",
       "</div>"
      ],
      "text/plain": [
       "                  0\n",
       "count  1.272524e+06\n",
       "mean   1.035550e-02\n",
       "std    2.188117e-02\n",
       "min    1.406590e-05\n",
       "25%    1.324219e-03\n",
       "50%    3.758831e-03\n",
       "75%    6.854136e-03\n",
       "max    1.751433e-01"
      ]
     },
     "execution_count": 40,
     "metadata": {},
     "output_type": "execute_result"
    }
   ],
   "source": [
    "errorDF4=pd.DataFrame(mse4)\n",
    "errorDF4.describe()"
   ]
  },
  {
   "cell_type": "markdown",
   "metadata": {},
   "source": [
    "#### Mark mse higher than .007 as anomaly"
   ]
  },
  {
   "cell_type": "code",
   "execution_count": 41,
   "metadata": {},
   "outputs": [],
   "source": [
    "y_pred4 = [1 if e > .007 else 0 for e in mse4]"
   ]
  },
  {
   "cell_type": "code",
   "execution_count": 42,
   "metadata": {},
   "outputs": [
    {
     "data": {
      "text/plain": [
       "1272524"
      ]
     },
     "execution_count": 42,
     "metadata": {},
     "output_type": "execute_result"
    }
   ],
   "source": [
    "len(y_pred4)"
   ]
  },
  {
   "cell_type": "code",
   "execution_count": 43,
   "metadata": {
    "scrolled": true
   },
   "outputs": [
    {
     "data": {
      "image/png": "[encoded data removed]",
      "text/plain": [
       "<Figure size 864x864 with 2 Axes>"
      ]
     },
     "metadata": {
      "needs_background": "light"
     },
     "output_type": "display_data"
    }
   ],
   "source": [
    "conf_matrix = confusion_matrix(y_test, y_pred4)\n",
    "plt.figure(figsize=(12, 12))\n",
    "sns.heatmap(conf_matrix, xticklabels=LABELS, yticklabels=LABELS, annot=True, fmt=\"d\");\n",
    "plt.title(\"Confusion matrix\")\n",
    "plt.ylabel('True class')\n",
    "plt.xlabel('Predicted class')\n",
    "plt.show()"
   ]
  },
  {
   "cell_type": "code",
   "execution_count": 44,
   "metadata": {},
   "outputs": [
    {
     "name": "stdout",
     "output_type": "stream",
     "text": [
      "              precision    recall  f1-score   support\n",
      "\n",
      "           0       1.00      0.75      0.86   1270904\n",
      "           1       0.00      0.77      0.01      1620\n",
      "\n",
      "    accuracy                           0.75   1272524\n",
      "   macro avg       0.50      0.76      0.43   1272524\n",
      "weighted avg       1.00      0.75      0.86   1272524\n",
      "\n"
     ]
    }
   ],
   "source": [
    "print(classification_report(y_test,y_pred4))"
   ]
  },
  {
   "cell_type": "code",
   "execution_count": 45,
   "metadata": {},
   "outputs": [
    {
     "data": {
      "text/plain": [
       "[Text(0, 0.5, 'Fraud'), Text(0, 1.5, 'Normal')]"
      ]
     },
     "execution_count": 45,
     "metadata": {},
     "output_type": "execute_result"
    },
    {
     "data": {
      "image/png": "[encoded data removed]",
      "text/plain": [
       "<Figure size 432x288 with 2 Axes>"
      ]
     },
     "metadata": {
      "needs_background": "light"
     },
     "output_type": "display_data"
    }
   ],
   "source": [
    "import seaborn as sns\n",
    "import matplotlib.pyplot as plt     \n",
    "\n",
    "ax= plt.subplot()\n",
    "sns.heatmap(conf_matrix, annot=True, ax = ax); #annot=True to annotate cells\n",
    "\n",
    "# labels, title and ticks\n",
    "ax.set_xlabel('Predicted labels');ax.set_ylabel('True labels'); \n",
    "ax.set_title('Confusion Matrix'); \n",
    "ax.xaxis.set_ticklabels(['Normal', 'Fraud']); ax.yaxis.set_ticklabels(['Fraud', 'Normal'])"
   ]
  },
  {
   "cell_type": "code",
   "execution_count": 46,
   "metadata": {
    "scrolled": true
   },
   "outputs": [
    {
     "data": {
      "image/png": "[encoded data removed]",
      "text/plain": [
       "<Figure size 432x144 with 2 Axes>"
      ]
     },
     "metadata": {
      "needs_background": "light"
     },
     "output_type": "display_data"
    }
   ],
   "source": [
    "clf_report2 = classification_report(y_test, y_pred4, output_dict=True)\n",
    "df = pd.DataFrame(clf_report2).iloc[:-1, :2].T\n",
    "\n",
    "fig, ax = plt.subplots(figsize = (6, 2))\n",
    "sns.heatmap(df, annot=True)\n",
    "plt.title(\"Classification Report of Auto Encoder\")\n",
    "ax.set_ylim(len(df)+0, -0)\n",
    "fig.savefig(\"file\", bbox_inches = 'tight')\n",
    "plt.show()"
   ]
  },
  {
   "cell_type": "code",
   "execution_count": 47,
   "metadata": {},
   "outputs": [
    {
     "data": {
      "image/png": "[encoded data removed]",
      "text/plain": [
       "<Figure size 432x288 with 1 Axes>"
      ]
     },
     "metadata": {
      "needs_background": "light"
     },
     "output_type": "display_data"
    }
   ],
   "source": [
    "plt.plot(history4['loss'], linewidth=2, label='Train')\n",
    "plt.plot(history4['val_loss'], linewidth=2, label='Test')\n",
    "plt.legend(loc='upper right')\n",
    "plt.title('Model loss')\n",
    "plt.ylabel('Loss')\n",
    "plt.xlabel('Epoch')\n",
    "#plt.ylim(ymin=0.70,ymax=1)\n",
    "plt.show()"
   ]
  },
  {
   "cell_type": "markdown",
   "metadata": {},
   "source": [
    "### Model 5 all tanh"
   ]
  },
  {
   "cell_type": "code",
   "execution_count": 48,
   "metadata": {},
   "outputs": [],
   "source": [
    "model5=Sequential()"
   ]
  },
  {
   "cell_type": "code",
   "execution_count": 49,
   "metadata": {},
   "outputs": [],
   "source": [
    "model5.add(Dense(19,input_dim=19,activation='tanh'))\n",
    "model5.add(Dense(4,activation='relu'))\n",
    "model5.add(Dense(19,activation='tanh'))\n",
    "model5.compile(loss='mse', optimizer='adam', metrics=[\"accuracy\"])"
   ]
  },
  {
   "cell_type": "code",
   "execution_count": 50,
   "metadata": {
    "scrolled": true
   },
   "outputs": [
    {
     "name": "stdout",
     "output_type": "stream",
     "text": [
      "Train on 4066802 samples, validate on 1016701 samples\n",
      "Epoch 1/30\n",
      "4066802/4066802 [==============================] - 208s 51us/step - loss: 0.1034 - accuracy: 2.3827e-04 - val_loss: 0.1029 - val_accuracy: 0.0000e+00\n",
      "Epoch 2/30\n",
      "4066802/4066802 [==============================] - 226s 55us/step - loss: 0.1029 - accuracy: 2.4589e-07 - val_loss: 0.1029 - val_accuracy: 0.0000e+00\n",
      "Epoch 3/30\n",
      "4066802/4066802 [==============================] - 261s 64us/step - loss: 0.1029 - accuracy: 2.4589e-07 - val_loss: 0.1029 - val_accuracy: 0.0000e+00\n",
      "Epoch 4/30\n",
      "4066802/4066802 [==============================] - 227s 56us/step - loss: 0.1029 - accuracy: 2.4589e-07 - val_loss: 0.1029 - val_accuracy: 0.0000e+00\n",
      "Epoch 5/30\n",
      "4066802/4066802 [==============================] - 211s 52us/step - loss: 0.1029 - accuracy: 2.4589e-07 - val_loss: 0.1029 - val_accuracy: 0.0000e+00\n",
      "Epoch 6/30\n",
      "4066802/4066802 [==============================] - 175s 43us/step - loss: 0.1029 - accuracy: 2.4589e-07 - val_loss: 0.1029 - val_accuracy: 0.0000e+00\n",
      "Epoch 7/30\n",
      "4066802/4066802 [==============================] - 183s 45us/step - loss: 0.1029 - accuracy: 2.4589e-07 - val_loss: 0.1029 - val_accuracy: 0.0000e+00\n",
      "Epoch 8/30\n",
      "4066802/4066802 [==============================] - 185s 45us/step - loss: 0.1029 - accuracy: 2.4589e-07 - val_loss: 0.1029 - val_accuracy: 0.0000e+00\n",
      "Epoch 9/30\n",
      "4066802/4066802 [==============================] - 184s 45us/step - loss: 0.1029 - accuracy: 2.4589e-07 - val_loss: 0.1029 - val_accuracy: 0.0000e+00\n",
      "Epoch 10/30\n",
      "4066802/4066802 [==============================] - 186s 46us/step - loss: 0.1029 - accuracy: 2.4589e-07 - val_loss: 0.1029 - val_accuracy: 0.0000e+00\n",
      "Epoch 11/30\n",
      "4066802/4066802 [==============================] - 175s 43us/step - loss: 0.1029 - accuracy: 2.4589e-07 - val_loss: 0.1029 - val_accuracy: 0.0000e+00\n",
      "Epoch 12/30\n",
      "4066802/4066802 [==============================] - 185s 45us/step - loss: 0.1029 - accuracy: 2.4589e-07 - val_loss: 0.1029 - val_accuracy: 0.0000e+00\n",
      "Epoch 13/30\n",
      "4066802/4066802 [==============================] - 203s 50us/step - loss: 0.1029 - accuracy: 2.4589e-07 - val_loss: 0.1029 - val_accuracy: 0.0000e+00\n",
      "Epoch 14/30\n",
      "4066802/4066802 [==============================] - 215s 53us/step - loss: 0.1029 - accuracy: 2.4589e-07 - val_loss: 0.1029 - val_accuracy: 0.0000e+00\n",
      "Epoch 15/30\n",
      "4066802/4066802 [==============================] - 179s 44us/step - loss: 0.1029 - accuracy: 2.4589e-07 - val_loss: 0.1029 - val_accuracy: 0.0000e+00\n",
      "Epoch 16/30\n",
      "4066802/4066802 [==============================] - 202s 50us/step - loss: 0.1029 - accuracy: 2.4589e-07 - val_loss: 0.1029 - val_accuracy: 0.0000e+00\n",
      "Epoch 17/30\n",
      "4066802/4066802 [==============================] - 231s 57us/step - loss: 0.1029 - accuracy: 2.4589e-07 - val_loss: 0.1029 - val_accuracy: 0.0000e+00\n",
      "Epoch 18/30\n",
      "4066802/4066802 [==============================] - 194s 48us/step - loss: 0.1029 - accuracy: 2.4589e-07 - val_loss: 0.1029 - val_accuracy: 0.0000e+00\n",
      "Epoch 19/30\n",
      "4066802/4066802 [==============================] - 101s 25us/step - loss: 0.1029 - accuracy: 2.4589e-07 - val_loss: 0.1029 - val_accuracy: 0.0000e+00\n",
      "Epoch 20/30\n",
      "4066802/4066802 [==============================] - 100s 25us/step - loss: 0.1029 - accuracy: 2.4589e-07 - val_loss: 0.1029 - val_accuracy: 0.0000e+00\n",
      "Epoch 21/30\n",
      "4066802/4066802 [==============================] - 113s 28us/step - loss: 0.1029 - accuracy: 2.4589e-07 - val_loss: 0.1029 - val_accuracy: 0.0000e+00\n",
      "Epoch 22/30\n",
      "4066802/4066802 [==============================] - 112s 28us/step - loss: 0.1029 - accuracy: 2.4589e-07 - val_loss: 0.1029 - val_accuracy: 0.0000e+00\n",
      "Epoch 23/30\n",
      "4066802/4066802 [==============================] - 101s 25us/step - loss: 0.1029 - accuracy: 2.4589e-07 - val_loss: 0.1029 - val_accuracy: 0.0000e+00\n",
      "Epoch 24/30\n",
      "4066802/4066802 [==============================] - 118s 29us/step - loss: 0.1029 - accuracy: 2.4589e-07 - val_loss: 0.1030 - val_accuracy: 0.0000e+00\n",
      "Epoch 25/30\n",
      "4066802/4066802 [==============================] - 116s 28us/step - loss: 0.1029 - accuracy: 2.4589e-07 - val_loss: 0.1029 - val_accuracy: 0.0000e+00\n",
      "Epoch 26/30\n",
      "4066802/4066802 [==============================] - 110s 27us/step - loss: 0.1029 - accuracy: 2.4589e-07 - val_loss: 0.1029 - val_accuracy: 0.0000e+00\n",
      "Epoch 27/30\n",
      "4066802/4066802 [==============================] - 115s 28us/step - loss: 0.1029 - accuracy: 2.4589e-07 - val_loss: 0.1029 - val_accuracy: 0.0000e+00\n",
      "Epoch 28/30\n",
      "4066802/4066802 [==============================] - 114s 28us/step - loss: 0.1029 - accuracy: 2.4589e-07 - val_loss: 0.1029 - val_accuracy: 0.0000e+00\n",
      "Epoch 29/30\n",
      "4066802/4066802 [==============================] - 114s 28us/step - loss: 0.1029 - accuracy: 2.4589e-07 - val_loss: 0.1029 - val_accuracy: 0.0000e+00\n",
      "Epoch 30/30\n",
      "4066802/4066802 [==============================] - 114s 28us/step - loss: 0.1029 - accuracy: 2.4589e-07 - val_loss: 0.1029 - val_accuracy: 0.0000e+00\n"
     ]
    },
    {
     "data": {
      "text/plain": [
       "<keras.callbacks.callbacks.History at 0x2b4c99c7c18>"
      ]
     },
     "execution_count": 50,
     "metadata": {},
     "output_type": "execute_result"
    }
   ],
   "source": [
    "model5.fit(X_trainMM,X_trainMM,validation_split=.2,epochs=30,batch_size=64)"
   ]
  },
  {
   "cell_type": "code",
   "execution_count": null,
   "metadata": {},
   "outputs": [],
   "source": []
  }
 ],
 "metadata": {
  "kernelspec": {
   "display_name": "Python 3",
   "language": "python",
   "name": "python3"
  },
  "language_info": {
   "codemirror_mode": {
    "name": "ipython",
    "version": 3
   },
   "file_extension": ".py",
   "mimetype": "text/x-python",
   "name": "python",
   "nbconvert_exporter": "python",
   "pygments_lexer": "ipython3",
   "version": "3.7.1"
  }
 },
 "nbformat": 4,
 "nbformat_minor": 2
}
