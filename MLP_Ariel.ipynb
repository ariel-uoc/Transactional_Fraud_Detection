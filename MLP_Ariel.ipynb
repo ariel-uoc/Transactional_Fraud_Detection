{
 "cells": [
  {
   "cell_type": "markdown",
   "metadata": {},
   "source": [
    "Creater: Ariel Li "
   ]
  },
  {
   "cell_type": "code",
   "execution_count": 1,
   "metadata": {},
   "outputs": [
    {
     "name": "stderr",
     "output_type": "stream",
     "text": [
      "Using TensorFlow backend.\n"
     ]
    }
   ],
   "source": [
    "# Load necessary packages\n",
    "import numpy as np\n",
    "import pandas as pd\n",
    "import matplotlib as mpl\n",
    "\n",
    "# Visualization modules\n",
    "%matplotlib inline\n",
    "import matplotlib.pyplot as plt\n",
    "import seaborn as sns\n",
    "sns.set()\n",
    "\n",
    "# Data-processing modules \n",
    "from sklearn.model_selection import train_test_split\n",
    "from sklearn.preprocessing import StandardScaler\n",
    "from sklearn.preprocessing import MinMaxScaler\n",
    "from imblearn.over_sampling import ADASYN # oversampling \n",
    "from collections import Counter \n",
    "\n",
    "# Modeling and evaluation modules \n",
    "from keras.callbacks import TensorBoard\n",
    "from keras.models import Sequential, load_model\n",
    "from keras.layers import LSTM, Dense, Dropout\n",
    "from keras.layers.embeddings import Embedding\n",
    "from keras.preprocessing import sequence\n",
    "from keras.models import model_from_yaml\n",
    "from keras.layers import Dense, Conv2D, MaxPooling2D, Dropout, Flatten\n",
    "\n",
    "from sklearn.model_selection import GridSearchCV\n",
    "from sklearn.model_selection import RandomizedSearchCV \n",
    "from sklearn import metrics\n",
    "\n",
    "import warnings\n",
    "warnings.filterwarnings(\"ignore\")\n",
    "\n",
    "# Module for saving model\n",
    "import pickle \n",
    "\n",
    "# Set seed for reproducibility \n",
    "SEED = 42"
   ]
  },
  {
   "cell_type": "code",
   "execution_count": 2,
   "metadata": {},
   "outputs": [
    {
     "data": {
      "text/html": [
       "<div>\n",
       "<style scoped>\n",
       "    .dataframe tbody tr th:only-of-type {\n",
       "        vertical-align: middle;\n",
       "    }\n",
       "\n",
       "    .dataframe tbody tr th {\n",
       "        vertical-align: top;\n",
       "    }\n",
       "\n",
       "    .dataframe thead th {\n",
       "        text-align: right;\n",
       "    }\n",
       "</style>\n",
       "<table border=\"1\" class=\"dataframe\">\n",
       "  <thead>\n",
       "    <tr style=\"text-align: right;\">\n",
       "      <th></th>\n",
       "      <th>step</th>\n",
       "      <th>amount</th>\n",
       "      <th>oldBalanceOrig</th>\n",
       "      <th>newBalanceOrig</th>\n",
       "      <th>oldBalanceDest</th>\n",
       "      <th>newBalanceDest</th>\n",
       "      <th>isFraud</th>\n",
       "      <th>errorBalanceOrig</th>\n",
       "      <th>errorBalanceDest</th>\n",
       "      <th>day</th>\n",
       "      <th>...</th>\n",
       "      <th>CASH_OUT</th>\n",
       "      <th>DEBIT</th>\n",
       "      <th>PAYMENT</th>\n",
       "      <th>TRANSFER</th>\n",
       "      <th>CC</th>\n",
       "      <th>CM</th>\n",
       "      <th>quartile1</th>\n",
       "      <th>quartile2</th>\n",
       "      <th>quartile3</th>\n",
       "      <th>quartile4</th>\n",
       "    </tr>\n",
       "  </thead>\n",
       "  <tbody>\n",
       "    <tr>\n",
       "      <td>0</td>\n",
       "      <td>1</td>\n",
       "      <td>9839.64</td>\n",
       "      <td>170136.0</td>\n",
       "      <td>160296.36</td>\n",
       "      <td>0.0</td>\n",
       "      <td>0.0</td>\n",
       "      <td>0</td>\n",
       "      <td>0.0</td>\n",
       "      <td>9839.64</td>\n",
       "      <td>0</td>\n",
       "      <td>...</td>\n",
       "      <td>0</td>\n",
       "      <td>0</td>\n",
       "      <td>1</td>\n",
       "      <td>0</td>\n",
       "      <td>0</td>\n",
       "      <td>1</td>\n",
       "      <td>1</td>\n",
       "      <td>0</td>\n",
       "      <td>0</td>\n",
       "      <td>0</td>\n",
       "    </tr>\n",
       "    <tr>\n",
       "      <td>1</td>\n",
       "      <td>1</td>\n",
       "      <td>1864.28</td>\n",
       "      <td>21249.0</td>\n",
       "      <td>19384.72</td>\n",
       "      <td>0.0</td>\n",
       "      <td>0.0</td>\n",
       "      <td>0</td>\n",
       "      <td>0.0</td>\n",
       "      <td>1864.28</td>\n",
       "      <td>0</td>\n",
       "      <td>...</td>\n",
       "      <td>0</td>\n",
       "      <td>0</td>\n",
       "      <td>1</td>\n",
       "      <td>0</td>\n",
       "      <td>0</td>\n",
       "      <td>1</td>\n",
       "      <td>1</td>\n",
       "      <td>0</td>\n",
       "      <td>0</td>\n",
       "      <td>0</td>\n",
       "    </tr>\n",
       "    <tr>\n",
       "      <td>2</td>\n",
       "      <td>1</td>\n",
       "      <td>181.00</td>\n",
       "      <td>181.0</td>\n",
       "      <td>0.00</td>\n",
       "      <td>0.0</td>\n",
       "      <td>0.0</td>\n",
       "      <td>1</td>\n",
       "      <td>0.0</td>\n",
       "      <td>181.00</td>\n",
       "      <td>0</td>\n",
       "      <td>...</td>\n",
       "      <td>0</td>\n",
       "      <td>0</td>\n",
       "      <td>0</td>\n",
       "      <td>1</td>\n",
       "      <td>1</td>\n",
       "      <td>0</td>\n",
       "      <td>1</td>\n",
       "      <td>0</td>\n",
       "      <td>0</td>\n",
       "      <td>0</td>\n",
       "    </tr>\n",
       "    <tr>\n",
       "      <td>3</td>\n",
       "      <td>1</td>\n",
       "      <td>181.00</td>\n",
       "      <td>181.0</td>\n",
       "      <td>0.00</td>\n",
       "      <td>21182.0</td>\n",
       "      <td>0.0</td>\n",
       "      <td>1</td>\n",
       "      <td>0.0</td>\n",
       "      <td>21363.00</td>\n",
       "      <td>0</td>\n",
       "      <td>...</td>\n",
       "      <td>1</td>\n",
       "      <td>0</td>\n",
       "      <td>0</td>\n",
       "      <td>0</td>\n",
       "      <td>1</td>\n",
       "      <td>0</td>\n",
       "      <td>1</td>\n",
       "      <td>0</td>\n",
       "      <td>0</td>\n",
       "      <td>0</td>\n",
       "    </tr>\n",
       "    <tr>\n",
       "      <td>4</td>\n",
       "      <td>1</td>\n",
       "      <td>11668.14</td>\n",
       "      <td>41554.0</td>\n",
       "      <td>29885.86</td>\n",
       "      <td>0.0</td>\n",
       "      <td>0.0</td>\n",
       "      <td>0</td>\n",
       "      <td>0.0</td>\n",
       "      <td>11668.14</td>\n",
       "      <td>0</td>\n",
       "      <td>...</td>\n",
       "      <td>0</td>\n",
       "      <td>0</td>\n",
       "      <td>1</td>\n",
       "      <td>0</td>\n",
       "      <td>0</td>\n",
       "      <td>1</td>\n",
       "      <td>1</td>\n",
       "      <td>0</td>\n",
       "      <td>0</td>\n",
       "      <td>0</td>\n",
       "    </tr>\n",
       "  </tbody>\n",
       "</table>\n",
       "<p>5 rows × 21 columns</p>\n",
       "</div>"
      ],
      "text/plain": [
       "   step    amount  oldBalanceOrig  newBalanceOrig  oldBalanceDest  \\\n",
       "0     1   9839.64        170136.0       160296.36             0.0   \n",
       "1     1   1864.28         21249.0        19384.72             0.0   \n",
       "2     1    181.00           181.0            0.00             0.0   \n",
       "3     1    181.00           181.0            0.00         21182.0   \n",
       "4     1  11668.14         41554.0        29885.86             0.0   \n",
       "\n",
       "   newBalanceDest  isFraud  errorBalanceOrig  errorBalanceDest  day  ...  \\\n",
       "0             0.0        0               0.0           9839.64    0  ...   \n",
       "1             0.0        0               0.0           1864.28    0  ...   \n",
       "2             0.0        1               0.0            181.00    0  ...   \n",
       "3             0.0        1               0.0          21363.00    0  ...   \n",
       "4             0.0        0               0.0          11668.14    0  ...   \n",
       "\n",
       "   CASH_OUT  DEBIT  PAYMENT  TRANSFER  CC  CM  quartile1  quartile2  \\\n",
       "0         0      0        1         0   0   1          1          0   \n",
       "1         0      0        1         0   0   1          1          0   \n",
       "2         0      0        0         1   1   0          1          0   \n",
       "3         1      0        0         0   1   0          1          0   \n",
       "4         0      0        1         0   0   1          1          0   \n",
       "\n",
       "   quartile3  quartile4  \n",
       "0          0          0  \n",
       "1          0          0  \n",
       "2          0          0  \n",
       "3          0          0  \n",
       "4          0          0  \n",
       "\n",
       "[5 rows x 21 columns]"
      ]
     },
     "execution_count": 2,
     "metadata": {},
     "output_type": "execute_result"
    }
   ],
   "source": [
    "# Load the dataset \n",
    "df = pd.read_csv(\"df_new.csv\", index_col = 0)\n",
    "df.head()"
   ]
  },
  {
   "cell_type": "code",
   "execution_count": 3,
   "metadata": {},
   "outputs": [
    {
     "data": {
      "text/html": [
       "<div>\n",
       "<style scoped>\n",
       "    .dataframe tbody tr th:only-of-type {\n",
       "        vertical-align: middle;\n",
       "    }\n",
       "\n",
       "    .dataframe tbody tr th {\n",
       "        vertical-align: top;\n",
       "    }\n",
       "\n",
       "    .dataframe thead th {\n",
       "        text-align: right;\n",
       "    }\n",
       "</style>\n",
       "<table border=\"1\" class=\"dataframe\">\n",
       "  <thead>\n",
       "    <tr style=\"text-align: right;\">\n",
       "      <th></th>\n",
       "      <th>amount</th>\n",
       "      <th>oldBalanceOrig</th>\n",
       "      <th>newBalanceOrig</th>\n",
       "      <th>oldBalanceDest</th>\n",
       "      <th>newBalanceDest</th>\n",
       "      <th>isFraud</th>\n",
       "      <th>errorBalanceOrig</th>\n",
       "      <th>errorBalanceDest</th>\n",
       "      <th>day</th>\n",
       "      <th>CASH_IN</th>\n",
       "      <th>CASH_OUT</th>\n",
       "      <th>DEBIT</th>\n",
       "      <th>PAYMENT</th>\n",
       "      <th>TRANSFER</th>\n",
       "      <th>CC</th>\n",
       "      <th>CM</th>\n",
       "      <th>quartile1</th>\n",
       "      <th>quartile2</th>\n",
       "      <th>quartile3</th>\n",
       "      <th>quartile4</th>\n",
       "    </tr>\n",
       "  </thead>\n",
       "  <tbody>\n",
       "    <tr>\n",
       "      <td>0</td>\n",
       "      <td>9839.64</td>\n",
       "      <td>170136.0</td>\n",
       "      <td>160296.36</td>\n",
       "      <td>0.0</td>\n",
       "      <td>0.0</td>\n",
       "      <td>0</td>\n",
       "      <td>0.0</td>\n",
       "      <td>9839.64</td>\n",
       "      <td>0</td>\n",
       "      <td>0</td>\n",
       "      <td>0</td>\n",
       "      <td>0</td>\n",
       "      <td>1</td>\n",
       "      <td>0</td>\n",
       "      <td>0</td>\n",
       "      <td>1</td>\n",
       "      <td>1</td>\n",
       "      <td>0</td>\n",
       "      <td>0</td>\n",
       "      <td>0</td>\n",
       "    </tr>\n",
       "    <tr>\n",
       "      <td>1</td>\n",
       "      <td>1864.28</td>\n",
       "      <td>21249.0</td>\n",
       "      <td>19384.72</td>\n",
       "      <td>0.0</td>\n",
       "      <td>0.0</td>\n",
       "      <td>0</td>\n",
       "      <td>0.0</td>\n",
       "      <td>1864.28</td>\n",
       "      <td>0</td>\n",
       "      <td>0</td>\n",
       "      <td>0</td>\n",
       "      <td>0</td>\n",
       "      <td>1</td>\n",
       "      <td>0</td>\n",
       "      <td>0</td>\n",
       "      <td>1</td>\n",
       "      <td>1</td>\n",
       "      <td>0</td>\n",
       "      <td>0</td>\n",
       "      <td>0</td>\n",
       "    </tr>\n",
       "    <tr>\n",
       "      <td>2</td>\n",
       "      <td>181.00</td>\n",
       "      <td>181.0</td>\n",
       "      <td>0.00</td>\n",
       "      <td>0.0</td>\n",
       "      <td>0.0</td>\n",
       "      <td>1</td>\n",
       "      <td>0.0</td>\n",
       "      <td>181.00</td>\n",
       "      <td>0</td>\n",
       "      <td>0</td>\n",
       "      <td>0</td>\n",
       "      <td>0</td>\n",
       "      <td>0</td>\n",
       "      <td>1</td>\n",
       "      <td>1</td>\n",
       "      <td>0</td>\n",
       "      <td>1</td>\n",
       "      <td>0</td>\n",
       "      <td>0</td>\n",
       "      <td>0</td>\n",
       "    </tr>\n",
       "    <tr>\n",
       "      <td>3</td>\n",
       "      <td>181.00</td>\n",
       "      <td>181.0</td>\n",
       "      <td>0.00</td>\n",
       "      <td>21182.0</td>\n",
       "      <td>0.0</td>\n",
       "      <td>1</td>\n",
       "      <td>0.0</td>\n",
       "      <td>21363.00</td>\n",
       "      <td>0</td>\n",
       "      <td>0</td>\n",
       "      <td>1</td>\n",
       "      <td>0</td>\n",
       "      <td>0</td>\n",
       "      <td>0</td>\n",
       "      <td>1</td>\n",
       "      <td>0</td>\n",
       "      <td>1</td>\n",
       "      <td>0</td>\n",
       "      <td>0</td>\n",
       "      <td>0</td>\n",
       "    </tr>\n",
       "    <tr>\n",
       "      <td>4</td>\n",
       "      <td>11668.14</td>\n",
       "      <td>41554.0</td>\n",
       "      <td>29885.86</td>\n",
       "      <td>0.0</td>\n",
       "      <td>0.0</td>\n",
       "      <td>0</td>\n",
       "      <td>0.0</td>\n",
       "      <td>11668.14</td>\n",
       "      <td>0</td>\n",
       "      <td>0</td>\n",
       "      <td>0</td>\n",
       "      <td>0</td>\n",
       "      <td>1</td>\n",
       "      <td>0</td>\n",
       "      <td>0</td>\n",
       "      <td>1</td>\n",
       "      <td>1</td>\n",
       "      <td>0</td>\n",
       "      <td>0</td>\n",
       "      <td>0</td>\n",
       "    </tr>\n",
       "  </tbody>\n",
       "</table>\n",
       "</div>"
      ],
      "text/plain": [
       "     amount  oldBalanceOrig  newBalanceOrig  oldBalanceDest  newBalanceDest  \\\n",
       "0   9839.64        170136.0       160296.36             0.0             0.0   \n",
       "1   1864.28         21249.0        19384.72             0.0             0.0   \n",
       "2    181.00           181.0            0.00             0.0             0.0   \n",
       "3    181.00           181.0            0.00         21182.0             0.0   \n",
       "4  11668.14         41554.0        29885.86             0.0             0.0   \n",
       "\n",
       "   isFraud  errorBalanceOrig  errorBalanceDest  day  CASH_IN  CASH_OUT  DEBIT  \\\n",
       "0        0               0.0           9839.64    0        0         0      0   \n",
       "1        0               0.0           1864.28    0        0         0      0   \n",
       "2        1               0.0            181.00    0        0         0      0   \n",
       "3        1               0.0          21363.00    0        0         1      0   \n",
       "4        0               0.0          11668.14    0        0         0      0   \n",
       "\n",
       "   PAYMENT  TRANSFER  CC  CM  quartile1  quartile2  quartile3  quartile4  \n",
       "0        1         0   0   1          1          0          0          0  \n",
       "1        1         0   0   1          1          0          0          0  \n",
       "2        0         1   1   0          1          0          0          0  \n",
       "3        0         0   1   0          1          0          0          0  \n",
       "4        1         0   0   1          1          0          0          0  "
      ]
     },
     "execution_count": 3,
     "metadata": {},
     "output_type": "execute_result"
    }
   ],
   "source": [
    "# Drop unnecessary column and step (since we already create \"day\" from step)\n",
    "df.drop(['step'],axis = 1,inplace = True)\n",
    "df.head()"
   ]
  },
  {
   "cell_type": "code",
   "execution_count": 4,
   "metadata": {},
   "outputs": [
    {
     "name": "stdout",
     "output_type": "stream",
     "text": [
      "(6362620, 19)\n",
      "(6362620,)\n"
     ]
    }
   ],
   "source": [
    "# Create X and y object \n",
    "X = df.drop(['isFraud'], axis=1)\n",
    "y = df['isFraud']\n",
    "# Verify shape\n",
    "print(X.shape)\n",
    "print(y.shape)"
   ]
  },
  {
   "cell_type": "code",
   "execution_count": 5,
   "metadata": {},
   "outputs": [
    {
     "name": "stdout",
     "output_type": "stream",
     "text": [
      "(5090096, 19)\n",
      "(5090096,)\n",
      "(1272524, 19)\n",
      "(1272524,)\n"
     ]
    }
   ],
   "source": [
    "# Split into train and test data, randome_state = SEED for reproducibility\n",
    "X_train, X_test, y_train, y_test= train_test_split(X, y, test_size=0.2, stratify = y, random_state = SEED)\n",
    "# Verify shape for train and test sets\n",
    "print(X_train.shape)\n",
    "print(y_train.shape)\n",
    "print(X_test.shape)\n",
    "print(y_test.shape)"
   ]
  },
  {
   "cell_type": "code",
   "execution_count": 6,
   "metadata": {},
   "outputs": [
    {
     "name": "stdout",
     "output_type": "stream",
     "text": [
      "Counter({0: 5083526, 1: 6570})\n"
     ]
    }
   ],
   "source": [
    "from collections import Counter\n",
    "# Summarize class distribution\n",
    "counter1 = Counter(y_train)\n",
    "print(counter1)"
   ]
  },
  {
   "cell_type": "code",
   "execution_count": 7,
   "metadata": {},
   "outputs": [
    {
     "name": "stdout",
     "output_type": "stream",
     "text": [
      "Counter({0: 1270881, 1: 1643})\n"
     ]
    }
   ],
   "source": [
    "counter2 = Counter(y_test)\n",
    "print(counter2)"
   ]
  },
  {
   "cell_type": "code",
   "execution_count": 8,
   "metadata": {},
   "outputs": [],
   "source": [
    "# Fit MinMax scaler on X_train data and transform both X_train and X_test data  \n",
    "scaler = MinMaxScaler().fit(X_train)\n",
    "X_train_scaled = scaler.transform(X_train)\n",
    "X_test_scaled = scaler.transform(X_test)"
   ]
  },
  {
   "cell_type": "markdown",
   "metadata": {},
   "source": [
    "## Neural Network Base Model "
   ]
  },
  {
   "cell_type": "code",
   "execution_count": 9,
   "metadata": {},
   "outputs": [
    {
     "name": "stdout",
     "output_type": "stream",
     "text": [
      "Model: \"sequential_1\"\n",
      "_________________________________________________________________\n",
      "Layer (type)                 Output Shape              Param #   \n",
      "=================================================================\n",
      "dense_1 (Dense)              (None, 64)                1280      \n",
      "_________________________________________________________________\n",
      "dropout_1 (Dropout)          (None, 64)                0         \n",
      "_________________________________________________________________\n",
      "dense_2 (Dense)              (None, 32)                2080      \n",
      "_________________________________________________________________\n",
      "dropout_2 (Dropout)          (None, 32)                0         \n",
      "_________________________________________________________________\n",
      "dense_3 (Dense)              (None, 1)                 33        \n",
      "=================================================================\n",
      "Total params: 3,393\n",
      "Trainable params: 3,393\n",
      "Non-trainable params: 0\n",
      "_________________________________________________________________\n"
     ]
    }
   ],
   "source": [
    "# Initialize the ANN\n",
    "classifier = Sequential()\n",
    "\n",
    "# Add the input layer and the first hidden layer, followed by dropout layer for regularization \n",
    "classifier.add(Dense(units = 64 , kernel_initializer = 'uniform', activation = 'relu', input_dim = 19))\n",
    "classifier.add(Dropout(rate = 0.5))\n",
    "\n",
    "# Add the second hidden layer, followed by dropout layer for regularization \n",
    "classifier.add(Dense(units = 32, activation = 'relu'))\n",
    "classifier.add(Dropout(rate = 0.5))\n",
    "\n",
    "# Add the output layer\n",
    "classifier.add(Dense(units = 1, activation = 'sigmoid'))\n",
    "\n",
    "# Compile the ANN\n",
    "classifier.compile(optimizer = 'adam', loss = 'binary_crossentropy', metrics = ['accuracy'])\n",
    "\n",
    "# Get model summary\n",
    "classifier.summary()"
   ]
  },
  {
   "cell_type": "code",
   "execution_count": 10,
   "metadata": {},
   "outputs": [
    {
     "name": "stdout",
     "output_type": "stream",
     "text": [
      "Train on 4072076 samples, validate on 1018020 samples\n",
      "Epoch 1/20\n",
      "4072076/4072076 [==============================] - 9s 2us/step - loss: 0.0187 - accuracy: 0.9983 - val_loss: 0.0073 - val_accuracy: 0.9987\n",
      "Epoch 2/20\n",
      "4072076/4072076 [==============================] - 9s 2us/step - loss: 0.0079 - accuracy: 0.9987 - val_loss: 0.0060 - val_accuracy: 0.9987\n",
      "Epoch 3/20\n",
      "4072076/4072076 [==============================] - 8s 2us/step - loss: 0.0064 - accuracy: 0.9987 - val_loss: 0.0052 - val_accuracy: 0.9987\n",
      "Epoch 4/20\n",
      "4072076/4072076 [==============================] - 8s 2us/step - loss: 0.0055 - accuracy: 0.9987 - val_loss: 0.0050 - val_accuracy: 0.9987\n",
      "Epoch 5/20\n",
      "4072076/4072076 [==============================] - 10s 2us/step - loss: 0.0052 - accuracy: 0.9987 - val_loss: 0.0050 - val_accuracy: 0.9987\n",
      "Epoch 6/20\n",
      "4072076/4072076 [==============================] - 8s 2us/step - loss: 0.0052 - accuracy: 0.9987 - val_loss: 0.0048 - val_accuracy: 0.9987\n",
      "Epoch 7/20\n",
      "4072076/4072076 [==============================] - 8s 2us/step - loss: 0.0051 - accuracy: 0.9987 - val_loss: 0.0044 - val_accuracy: 0.9987\n",
      "Epoch 8/20\n",
      "4072076/4072076 [==============================] - 8s 2us/step - loss: 0.0051 - accuracy: 0.9987 - val_loss: 0.0048 - val_accuracy: 0.9987\n",
      "Epoch 9/20\n",
      "4072076/4072076 [==============================] - 8s 2us/step - loss: 0.0050 - accuracy: 0.9987 - val_loss: 0.0044 - val_accuracy: 0.9987\n",
      "Epoch 10/20\n",
      "4072076/4072076 [==============================] - 9s 2us/step - loss: 0.0050 - accuracy: 0.9987 - val_loss: 0.0043 - val_accuracy: 0.9987\n",
      "Epoch 11/20\n",
      "4072076/4072076 [==============================] - 8s 2us/step - loss: 0.0050 - accuracy: 0.9987 - val_loss: 0.0047 - val_accuracy: 0.9987\n",
      "Epoch 12/20\n",
      "4072076/4072076 [==============================] - 9s 2us/step - loss: 0.0050 - accuracy: 0.9987 - val_loss: 0.0044 - val_accuracy: 0.9987\n",
      "Epoch 13/20\n",
      "4072076/4072076 [==============================] - 8s 2us/step - loss: 0.0049 - accuracy: 0.9987 - val_loss: 0.0047 - val_accuracy: 0.9987\n",
      "Epoch 14/20\n",
      "4072076/4072076 [==============================] - 8s 2us/step - loss: 0.0049 - accuracy: 0.9987 - val_loss: 0.0042 - val_accuracy: 0.9987\n",
      "Epoch 15/20\n",
      "4072076/4072076 [==============================] - 9s 2us/step - loss: 0.0049 - accuracy: 0.9987 - val_loss: 0.0042 - val_accuracy: 0.9987\n",
      "Epoch 16/20\n",
      "4072076/4072076 [==============================] - 9s 2us/step - loss: 0.0048 - accuracy: 0.9987 - val_loss: 0.0045 - val_accuracy: 0.9987\n",
      "Epoch 17/20\n",
      "4072076/4072076 [==============================] - 8s 2us/step - loss: 0.0049 - accuracy: 0.9987 - val_loss: 0.0041 - val_accuracy: 0.9987\n",
      "Epoch 18/20\n",
      "4072076/4072076 [==============================] - 8s 2us/step - loss: 0.0048 - accuracy: 0.9987 - val_loss: 0.0044 - val_accuracy: 0.9987\n",
      "Epoch 19/20\n",
      "4072076/4072076 [==============================] - 8s 2us/step - loss: 0.0048 - accuracy: 0.9987 - val_loss: 0.0041 - val_accuracy: 0.9987\n",
      "Epoch 20/20\n",
      "4072076/4072076 [==============================] - 8s 2us/step - loss: 0.0048 - accuracy: 0.9987 - val_loss: 0.0045 - val_accuracy: 0.9987\n"
     ]
    },
    {
     "data": {
      "text/plain": [
       "<keras.callbacks.callbacks.History at 0x14a4b5f98>"
      ]
     },
     "execution_count": 10,
     "metadata": {},
     "output_type": "execute_result"
    }
   ],
   "source": [
    "# Fit the ANN to the training data \n",
    "classifier.fit(X_train_scaled, y_train, validation_split = 0.2, batch_size = 2048, epochs = 20)"
   ]
  },
  {
   "cell_type": "code",
   "execution_count": 11,
   "metadata": {},
   "outputs": [
    {
     "name": "stdout",
     "output_type": "stream",
     "text": [
      "1272524/1272524 [==============================] - 1s 1us/step\n"
     ]
    },
    {
     "data": {
      "text/plain": [
       "[0.004177051763588744, 0.9987088441848755]"
      ]
     },
     "execution_count": 11,
     "metadata": {},
     "output_type": "execute_result"
    }
   ],
   "source": [
    "classifier.evaluate(X_test_scaled, y_test, batch_size = 2048)"
   ]
  },
  {
   "cell_type": "code",
   "execution_count": 12,
   "metadata": {},
   "outputs": [],
   "source": [
    "# Predict test data \n",
    "y_pred_mod1 = classifier.predict(X_test_scaled)\n",
    "y_pred_mod1 = [0 if x < 0.5 else 1 for x in y_pred_mod1]"
   ]
  },
  {
   "cell_type": "code",
   "execution_count": 13,
   "metadata": {},
   "outputs": [
    {
     "data": {
      "image/png": "[encoded data removed]",
      "text/plain": [
       "<Figure size 432x288 with 2 Axes>"
      ]
     },
     "metadata": {
      "needs_background": "light"
     },
     "output_type": "display_data"
    }
   ],
   "source": [
    "# Generate confusion matrix and classification report \n",
    "cnf_test_mod1 = metrics.confusion_matrix(y_test, y_pred_mod1)\n",
    "clr_test_mod1 = metrics.classification_report(y_test, y_pred_mod1)\n",
    "\n",
    "# Create Heatmap for Confusion Matrix \n",
    "sns.heatmap(cnf_test_mod1, annot=True, cmap=\"YlGnBu\" ,fmt='g')\n",
    "plt.tight_layout()\n",
    "plt.title('Confusion Matrix for Neural Network Model 1 on Test Data', y=1.1)\n",
    "plt.ylabel('Actual label')\n",
    "plt.xlabel('Predicted label')\n",
    "\n",
    "# Fix for mpl bug that cuts off top/bottom of seaborn visualization\n",
    "b, t = plt.ylim() # discover the values for bottom and top\n",
    "b += 0.5 # Add 0.5 to the bottom\n",
    "t -= 0.5 # Subtract 0.5 from the top\n",
    "plt.ylim(b, t) # update the ylim(bottom, top) values\n",
    "plt.show()"
   ]
  },
  {
   "cell_type": "code",
   "execution_count": 14,
   "metadata": {},
   "outputs": [
    {
     "name": "stdout",
     "output_type": "stream",
     "text": [
      "              precision    recall  f1-score   support\n",
      "\n",
      "           0       1.00      1.00      1.00   1270881\n",
      "           1       0.00      0.00      0.00      1643\n",
      "\n",
      "    accuracy                           1.00   1272524\n",
      "   macro avg       0.50      0.50      0.50   1272524\n",
      "weighted avg       1.00      1.00      1.00   1272524\n",
      "\n"
     ]
    }
   ],
   "source": [
    "# Print classification report\n",
    "print(clr_test_mod1)"
   ]
  },
  {
   "cell_type": "code",
   "execution_count": 15,
   "metadata": {},
   "outputs": [
    {
     "data": {
      "image/png": "[encoded data removed]",
      "text/plain": [
       "<Figure size 432x144 with 2 Axes>"
      ]
     },
     "metadata": {
      "needs_background": "light"
     },
     "output_type": "display_data"
    }
   ],
   "source": [
    "# Save classification report for presentation \n",
    "clf_report1 = metrics.classification_report(y_test, y_pred_mod1, output_dict=True)\n",
    "df1 = pd.DataFrame(clf_report1).iloc[:-1, :2].T\n",
    "\n",
    "fig, ax = plt.subplots(figsize = (6, 2))\n",
    "sns.heatmap(df1, annot=True)\n",
    "plt.title(\"Classification Report of Neural Network Base Model\")\n",
    "ax.set_ylim(len(df1)+0, -0)\n",
    "fig.savefig(\"nn_mod1\", bbox_inches = 'tight')\n",
    "plt.show()"
   ]
  },
  {
   "cell_type": "code",
   "execution_count": 16,
   "metadata": {},
   "outputs": [
    {
     "data": {
      "image/png": "[encoded data removed]",
      "text/plain": [
       "<Figure size 432x288 with 2 Axes>"
      ]
     },
     "metadata": {
      "needs_background": "light"
     },
     "output_type": "display_data"
    }
   ],
   "source": [
    "# Predict train data \n",
    "y_pred_mod1_train = classifier.predict(X_train_scaled)\n",
    "y_pred_mod1_train = [0 if x < 0.5 else 1 for x in y_pred_mod1_train]\n",
    "\n",
    "# Generate confusion matrix\n",
    "cnf_train_mod1 = metrics.confusion_matrix(y_train, y_pred_mod1_train)\n",
    "\n",
    "# Create Heatmap for Confusion Matrix \n",
    "sns.heatmap(cnf_train_mod1, annot=True, cmap=\"YlGnBu\" ,fmt='g')\n",
    "plt.tight_layout()\n",
    "plt.title('Confusion Matrix for Neural Network Base Model on Train Data', y=1.1)\n",
    "plt.ylabel('Actual label')\n",
    "plt.xlabel('Predicted label')\n",
    "\n",
    "# Fix for mpl bug that cuts off top/bottom of seaborn visualization\n",
    "b, t = plt.ylim() # discover the values for bottom and top\n",
    "b += 0.5 # Add 0.5 to the bottom\n",
    "t -= 0.5 # Subtract 0.5 from the top\n",
    "plt.ylim(b, t) # update the ylim(bottom, top) values\n",
    "plt.show()"
   ]
  },
  {
   "cell_type": "code",
   "execution_count": 17,
   "metadata": {},
   "outputs": [
    {
     "name": "stdout",
     "output_type": "stream",
     "text": [
      "              precision    recall  f1-score   support\n",
      "\n",
      "           0       1.00      1.00      1.00   5083526\n",
      "           1       0.00      0.00      0.00      6570\n",
      "\n",
      "    accuracy                           1.00   5090096\n",
      "   macro avg       0.50      0.50      0.50   5090096\n",
      "weighted avg       1.00      1.00      1.00   5090096\n",
      "\n"
     ]
    }
   ],
   "source": [
    "# Generate classification report \n",
    "clr_train_mod1 = metrics.classification_report(y_train, y_pred_mod1_train)\n",
    "print(clr_train_mod1)"
   ]
  },
  {
   "cell_type": "code",
   "execution_count": 18,
   "metadata": {},
   "outputs": [
    {
     "name": "stdout",
     "output_type": "stream",
     "text": [
      "Saved model to disk\n"
     ]
    }
   ],
   "source": [
    "# Write model and model weights to disk\n",
    "model_yaml = classifier.to_yaml()\n",
    "with open(\"model_1.yaml\", \"w\") as yaml_file:\n",
    "    yaml_file.write(model_yaml)\n",
    "\n",
    "classifier.save_weights(\"model_1.h5\")\n",
    "print(\"Saved model to disk\")"
   ]
  },
  {
   "cell_type": "code",
   "execution_count": 19,
   "metadata": {},
   "outputs": [
    {
     "name": "stdout",
     "output_type": "stream",
     "text": [
      "Loaded model from disk\n"
     ]
    }
   ],
   "source": [
    "# Load model from disk\n",
    "yaml_file = open('model_1.yaml', 'r')\n",
    "loaded_model_yaml = yaml_file.read()\n",
    "yaml_file.close()\n",
    "model = model_from_yaml(loaded_model_yaml)\n",
    "\n",
    "# Load weights into new model\n",
    "model.load_weights(\"model_1.h5\")\n",
    "print(\"Loaded model from disk\")"
   ]
  },
  {
   "cell_type": "markdown",
   "metadata": {},
   "source": [
    "## Neural Network Model with Class Weighting "
   ]
  },
  {
   "cell_type": "code",
   "execution_count": 20,
   "metadata": {},
   "outputs": [
    {
     "name": "stdout",
     "output_type": "stream",
     "text": [
      "[  0.50064624 387.35054182]\n"
     ]
    }
   ],
   "source": [
    "from sklearn.utils.class_weight import compute_class_weight\n",
    "# Calculate class weighting\n",
    "weighting = compute_class_weight('balanced', [0,1], y)\n",
    "print(weighting)"
   ]
  },
  {
   "cell_type": "code",
   "execution_count": 21,
   "metadata": {},
   "outputs": [
    {
     "name": "stdout",
     "output_type": "stream",
     "text": [
      "Model: \"sequential_2\"\n",
      "_________________________________________________________________\n",
      "Layer (type)                 Output Shape              Param #   \n",
      "=================================================================\n",
      "dense_4 (Dense)              (None, 64)                1280      \n",
      "_________________________________________________________________\n",
      "dropout_3 (Dropout)          (None, 64)                0         \n",
      "_________________________________________________________________\n",
      "dense_5 (Dense)              (None, 32)                2080      \n",
      "_________________________________________________________________\n",
      "dropout_4 (Dropout)          (None, 32)                0         \n",
      "_________________________________________________________________\n",
      "dense_6 (Dense)              (None, 1)                 33        \n",
      "=================================================================\n",
      "Total params: 3,393\n",
      "Trainable params: 3,393\n",
      "Non-trainable params: 0\n",
      "_________________________________________________________________\n"
     ]
    }
   ],
   "source": [
    "# Define model\n",
    "weights = {0:weighting[0], 1:weighting[1]}\n",
    "\n",
    "# Initialize the ANN\n",
    "model2 = Sequential()\n",
    "\n",
    "# Add the input layer and the first hidden layer, followed by dropout layer for regularization \n",
    "model2.add(Dense(units = 64 , kernel_initializer = 'uniform', activation = 'relu', input_dim = 19))\n",
    "model2.add(Dropout(rate = 0.5))\n",
    "\n",
    "# Add the second hidden layer, followed by dropout layer for regularization \n",
    "model2.add(Dense(units = 32, activation = 'relu'))\n",
    "model2.add(Dropout(rate = 0.5))\n",
    "\n",
    "# Add the output layer\n",
    "model2.add(Dense(units = 1, activation = 'sigmoid'))\n",
    "\n",
    "# Compile the ANN\n",
    "model2.compile(optimizer = 'adam', loss = 'binary_crossentropy', metrics = ['accuracy'])\n",
    "\n",
    "# Get model summary\n",
    "model2.summary()"
   ]
  },
  {
   "cell_type": "code",
   "execution_count": 22,
   "metadata": {},
   "outputs": [],
   "source": [
    "from keras.callbacks import ModelCheckpoint, EarlyStopping\n",
    "\n",
    "# Implement early stopping \n",
    "mc = ModelCheckpoint(\"best_wnn_model.h5\", save_best_only = True, verbose = 1)\n",
    "es = EarlyStopping(monitor = \"val_loss\", mode = \"min\", verbose = 1, patience = 10, restore_best_weights = True)"
   ]
  },
  {
   "cell_type": "code",
   "execution_count": 23,
   "metadata": {},
   "outputs": [
    {
     "name": "stdout",
     "output_type": "stream",
     "text": [
      "Train on 4072076 samples, validate on 1018020 samples\n",
      "Epoch 1/20\n",
      "4072076/4072076 [==============================] - 33s 8us/step - loss: 0.3354 - accuracy: 0.7951 - val_loss: 0.2462 - val_accuracy: 0.9734\n",
      "\n",
      "Epoch 00001: val_loss improved from inf to 0.24616, saving model to best_wnn_model.h5\n",
      "Epoch 2/20\n",
      "4072076/4072076 [==============================] - 32s 8us/step - loss: 0.2746 - accuracy: 0.8949 - val_loss: 0.2057 - val_accuracy: 0.9518\n",
      "\n",
      "Epoch 00002: val_loss improved from 0.24616 to 0.20572, saving model to best_wnn_model.h5\n",
      "Epoch 3/20\n",
      "4072076/4072076 [==============================] - 32s 8us/step - loss: 0.2580 - accuracy: 0.9074 - val_loss: 0.2278 - val_accuracy: 0.8267\n",
      "\n",
      "Epoch 00003: val_loss did not improve from 0.20572\n",
      "Epoch 4/20\n",
      "4072076/4072076 [==============================] - 32s 8us/step - loss: 0.2676 - accuracy: 0.9109 - val_loss: 0.2022 - val_accuracy: 0.8974\n",
      "\n",
      "Epoch 00004: val_loss improved from 0.20572 to 0.20223, saving model to best_wnn_model.h5\n",
      "Epoch 5/20\n",
      "4072076/4072076 [==============================] - 33s 8us/step - loss: 0.2636 - accuracy: 0.8916 - val_loss: 0.2047 - val_accuracy: 0.9057\n",
      "\n",
      "Epoch 00005: val_loss did not improve from 0.20223\n",
      "Epoch 6/20\n",
      "4072076/4072076 [==============================] - 34s 8us/step - loss: 0.2698 - accuracy: 0.8976 - val_loss: 0.2059 - val_accuracy: 0.9069\n",
      "\n",
      "Epoch 00006: val_loss did not improve from 0.20223\n",
      "Epoch 7/20\n",
      "4072076/4072076 [==============================] - 34s 8us/step - loss: 0.2592 - accuracy: 0.8939 - val_loss: 0.2107 - val_accuracy: 0.8938\n",
      "\n",
      "Epoch 00007: val_loss did not improve from 0.20223\n",
      "Epoch 8/20\n",
      "4072076/4072076 [==============================] - 34s 8us/step - loss: 0.3075 - accuracy: 0.8922 - val_loss: 0.1806 - val_accuracy: 0.9228\n",
      "\n",
      "Epoch 00008: val_loss improved from 0.20223 to 0.18056, saving model to best_wnn_model.h5\n",
      "Epoch 9/20\n",
      "4072076/4072076 [==============================] - 34s 8us/step - loss: 0.2503 - accuracy: 0.9007 - val_loss: 0.2081 - val_accuracy: 0.9028\n",
      "\n",
      "Epoch 00009: val_loss did not improve from 0.18056\n",
      "Epoch 10/20\n",
      "4072076/4072076 [==============================] - 32s 8us/step - loss: 0.2881 - accuracy: 0.8972 - val_loss: 0.2626 - val_accuracy: 0.9766\n",
      "\n",
      "Epoch 00010: val_loss did not improve from 0.18056\n",
      "Epoch 11/20\n",
      "4072076/4072076 [==============================] - 32s 8us/step - loss: 0.2808 - accuracy: 0.8901 - val_loss: 0.2052 - val_accuracy: 0.8908\n",
      "\n",
      "Epoch 00011: val_loss did not improve from 0.18056\n",
      "Epoch 12/20\n",
      "4072076/4072076 [==============================] - 32s 8us/step - loss: 0.2809 - accuracy: 0.9011 - val_loss: 0.2243 - val_accuracy: 0.8730\n",
      "\n",
      "Epoch 00012: val_loss did not improve from 0.18056\n",
      "Epoch 13/20\n",
      "4072076/4072076 [==============================] - 32s 8us/step - loss: 0.3236 - accuracy: 0.8888 - val_loss: 0.2636 - val_accuracy: 0.9469\n",
      "\n",
      "Epoch 00013: val_loss did not improve from 0.18056\n",
      "Epoch 14/20\n",
      "4072076/4072076 [==============================] - 32s 8us/step - loss: 0.4164 - accuracy: 0.8956 - val_loss: 0.2820 - val_accuracy: 0.9442\n",
      "\n",
      "Epoch 00014: val_loss did not improve from 0.18056\n",
      "Epoch 15/20\n",
      "4072076/4072076 [==============================] - 33s 8us/step - loss: 0.4904 - accuracy: 0.8991 - val_loss: 0.2403 - val_accuracy: 0.8998\n",
      "\n",
      "Epoch 00015: val_loss did not improve from 0.18056\n",
      "Epoch 16/20\n",
      "4072076/4072076 [==============================] - 32s 8us/step - loss: 0.3321 - accuracy: 0.9128 - val_loss: 0.1972 - val_accuracy: 0.9634\n",
      "\n",
      "Epoch 00016: val_loss did not improve from 0.18056\n",
      "Epoch 17/20\n",
      "4072076/4072076 [==============================] - 33s 8us/step - loss: 0.2639 - accuracy: 0.9293 - val_loss: 0.2300 - val_accuracy: 0.9520\n",
      "\n",
      "Epoch 00017: val_loss did not improve from 0.18056\n",
      "Epoch 18/20\n",
      "4072076/4072076 [==============================] - 32s 8us/step - loss: 0.4368 - accuracy: 0.9100 - val_loss: 0.2438 - val_accuracy: 0.9441\n",
      "\n",
      "Epoch 00018: val_loss did not improve from 0.18056\n",
      "Restoring model weights from the end of the best epoch\n",
      "Epoch 00018: early stopping\n"
     ]
    }
   ],
   "source": [
    "# Fit the ANN to the training data \n",
    "wnn_hist = model2.fit(X_train_scaled, y_train, class_weight = weights, validation_split = 0.2, \n",
    "                          batch_size = 128, epochs = 30, verbose = 1, callbacks = [mc, es])"
   ]
  },
  {
   "cell_type": "code",
   "execution_count": 24,
   "metadata": {},
   "outputs": [
    {
     "name": "stdout",
     "output_type": "stream",
     "text": [
      "1272524/1272524 [==============================] - 3s 2us/step\n"
     ]
    },
    {
     "data": {
      "text/plain": [
       "[0.1547833386294205, 0.92274409532547]"
      ]
     },
     "execution_count": 24,
     "metadata": {},
     "output_type": "execute_result"
    }
   ],
   "source": [
    "model2.evaluate(X_test_scaled, y_test, batch_size = 128)"
   ]
  },
  {
   "cell_type": "code",
   "execution_count": 25,
   "metadata": {},
   "outputs": [],
   "source": [
    "# Predict test data \n",
    "y_pred_mod2 = model2.predict(X_test_scaled)\n",
    "y_pred_mod2 = [0 if x < 0.5 else 1 for x in y_pred_mod2]"
   ]
  },
  {
   "cell_type": "code",
   "execution_count": 26,
   "metadata": {},
   "outputs": [
    {
     "data": {
      "image/png": "[encoded data removed]",
      "text/plain": [
       "<Figure size 432x288 with 2 Axes>"
      ]
     },
     "metadata": {
      "needs_background": "light"
     },
     "output_type": "display_data"
    }
   ],
   "source": [
    "# Generate confusion matrix and classification report \n",
    "cnf_test_mod2 = metrics.confusion_matrix(y_test, y_pred_mod2)\n",
    "clr_test_mod2 = metrics.classification_report(y_test, y_pred_mod2)\n",
    "\n",
    "# Create Heatmap for Confusion Matrix \n",
    "sns.heatmap(cnf_test_mod2, annot=True, cmap=\"YlGnBu\" ,fmt='g')\n",
    "plt.tight_layout()\n",
    "plt.title('Confusion Matrix for Neural Network Model 2 (with Class Weights) on Test Data', y=1.1)\n",
    "plt.ylabel('Actual label')\n",
    "plt.xlabel('Predicted label')\n",
    "\n",
    "# Fix for mpl bug that cuts off top/bottom of seaborn visualization\n",
    "b, t = plt.ylim() # discover the values for bottom and top\n",
    "b += 0.5 # Add 0.5 to the bottom\n",
    "t -= 0.5 # Subtract 0.5 from the top\n",
    "plt.ylim(b, t) # update the ylim(bottom, top) values\n",
    "plt.show()"
   ]
  },
  {
   "cell_type": "code",
   "execution_count": 27,
   "metadata": {},
   "outputs": [
    {
     "name": "stdout",
     "output_type": "stream",
     "text": [
      "              precision    recall  f1-score   support\n",
      "\n",
      "           0       1.00      0.92      0.96   1270881\n",
      "           1       0.02      0.96      0.03      1643\n",
      "\n",
      "    accuracy                           0.92   1272524\n",
      "   macro avg       0.51      0.94      0.50   1272524\n",
      "weighted avg       1.00      0.92      0.96   1272524\n",
      "\n"
     ]
    }
   ],
   "source": [
    "# Print classification report\n",
    "print(clr_test_mod2)"
   ]
  },
  {
   "cell_type": "code",
   "execution_count": 28,
   "metadata": {},
   "outputs": [
    {
     "data": {
      "image/png": "[encoded data removed]",
      "text/plain": [
       "<Figure size 432x144 with 2 Axes>"
      ]
     },
     "metadata": {
      "needs_background": "light"
     },
     "output_type": "display_data"
    }
   ],
   "source": [
    "# Save classification report for presentation \n",
    "clf_report2 = metrics.classification_report(y_test, y_pred_mod2, output_dict=True)\n",
    "df2 = pd.DataFrame(clf_report2).iloc[:-1, :2].T\n",
    "\n",
    "fig, ax = plt.subplots(figsize = (6, 2))\n",
    "sns.heatmap(df2, annot=True)\n",
    "plt.title(\"Classification Report of Neural Network Model 2 (with Calss Weights)\")\n",
    "ax.set_ylim(len(df2)+0, -0)\n",
    "fig.savefig(\"nn_mod2\", bbox_inches = 'tight')\n",
    "plt.show()"
   ]
  },
  {
   "cell_type": "code",
   "execution_count": 29,
   "metadata": {},
   "outputs": [
    {
     "data": {
      "image/png": "[encoded data removed]",
      "text/plain": [
       "<Figure size 432x288 with 2 Axes>"
      ]
     },
     "metadata": {
      "needs_background": "light"
     },
     "output_type": "display_data"
    }
   ],
   "source": [
    "# Predict train data \n",
    "y_pred_mod2_train = model2.predict(X_train_scaled)\n",
    "y_pred_mod2_train = [0 if x < 0.5 else 1 for x in y_pred_mod2_train]\n",
    "\n",
    "# Generate confusion matrix\n",
    "cnf_train_mod2 = metrics.confusion_matrix(y_train, y_pred_mod2_train)\n",
    "\n",
    "# Create Heatmap for Confusion Matrix \n",
    "sns.heatmap(cnf_train_mod2, annot=True, cmap=\"YlGnBu\" ,fmt='g')\n",
    "plt.tight_layout()\n",
    "plt.title('Confusion Matrix for Neural Network Model 2 (with Class Weights) on Train Data', y=1.1)\n",
    "plt.ylabel('Actual label')\n",
    "plt.xlabel('Predicted label')\n",
    "\n",
    "# Fix for mpl bug that cuts off top/bottom of seaborn visualization\n",
    "b, t = plt.ylim() # discover the values for bottom and top\n",
    "b += 0.5 # Add 0.5 to the bottom\n",
    "t -= 0.5 # Subtract 0.5 from the top\n",
    "plt.ylim(b, t) # update the ylim(bottom, top) values\n",
    "plt.show()"
   ]
  },
  {
   "cell_type": "code",
   "execution_count": 30,
   "metadata": {},
   "outputs": [
    {
     "name": "stdout",
     "output_type": "stream",
     "text": [
      "              precision    recall  f1-score   support\n",
      "\n",
      "           0       1.00      0.92      0.96   5083526\n",
      "           1       0.02      0.96      0.03      6570\n",
      "\n",
      "    accuracy                           0.92   5090096\n",
      "   macro avg       0.51      0.94      0.50   5090096\n",
      "weighted avg       1.00      0.92      0.96   5090096\n",
      "\n"
     ]
    }
   ],
   "source": [
    "# Generate classification report \n",
    "clr_train_mod2 = metrics.classification_report(y_train, y_pred_mod2_train)\n",
    "print(clr_train_mod2)"
   ]
  },
  {
   "cell_type": "code",
   "execution_count": null,
   "metadata": {},
   "outputs": [],
   "source": []
  },
  {
   "cell_type": "markdown",
   "metadata": {},
   "source": [
    "## With Oversampling "
   ]
  },
  {
   "cell_type": "code",
   "execution_count": 31,
   "metadata": {},
   "outputs": [
    {
     "data": {
      "text/plain": [
       "(10166552, 20)"
      ]
     },
     "execution_count": 31,
     "metadata": {},
     "output_type": "execute_result"
    }
   ],
   "source": [
    "# Load the train dataset after oversampling (normalized before ADASYN)\n",
    "data = pd.read_csv(\"resampled_train_data.csv\")\n",
    "data.shape"
   ]
  },
  {
   "cell_type": "code",
   "execution_count": 32,
   "metadata": {},
   "outputs": [
    {
     "data": {
      "text/html": [
       "<div>\n",
       "<style scoped>\n",
       "    .dataframe tbody tr th:only-of-type {\n",
       "        vertical-align: middle;\n",
       "    }\n",
       "\n",
       "    .dataframe tbody tr th {\n",
       "        vertical-align: top;\n",
       "    }\n",
       "\n",
       "    .dataframe thead th {\n",
       "        text-align: right;\n",
       "    }\n",
       "</style>\n",
       "<table border=\"1\" class=\"dataframe\">\n",
       "  <thead>\n",
       "    <tr style=\"text-align: right;\">\n",
       "      <th></th>\n",
       "      <th>0</th>\n",
       "      <th>1</th>\n",
       "      <th>2</th>\n",
       "      <th>3</th>\n",
       "      <th>4</th>\n",
       "      <th>5</th>\n",
       "      <th>6</th>\n",
       "      <th>7</th>\n",
       "      <th>8</th>\n",
       "      <th>9</th>\n",
       "      <th>10</th>\n",
       "      <th>11</th>\n",
       "      <th>12</th>\n",
       "      <th>13</th>\n",
       "      <th>14</th>\n",
       "      <th>15</th>\n",
       "      <th>16</th>\n",
       "      <th>17</th>\n",
       "      <th>18</th>\n",
       "      <th>isFraud</th>\n",
       "    </tr>\n",
       "  </thead>\n",
       "  <tbody>\n",
       "    <tr>\n",
       "      <td>0</td>\n",
       "      <td>0.000107</td>\n",
       "      <td>0.000743</td>\n",
       "      <td>0.000692</td>\n",
       "      <td>0.000000</td>\n",
       "      <td>0.000000</td>\n",
       "      <td>1.081718e-10</td>\n",
       "      <td>0.852023</td>\n",
       "      <td>0.000000</td>\n",
       "      <td>0.0</td>\n",
       "      <td>0.0</td>\n",
       "      <td>0.0</td>\n",
       "      <td>1.0</td>\n",
       "      <td>0.0</td>\n",
       "      <td>0.0</td>\n",
       "      <td>1.0</td>\n",
       "      <td>1.0</td>\n",
       "      <td>0.0</td>\n",
       "      <td>0.0</td>\n",
       "      <td>0.0</td>\n",
       "      <td>0</td>\n",
       "    </tr>\n",
       "    <tr>\n",
       "      <td>1</td>\n",
       "      <td>0.000074</td>\n",
       "      <td>0.000000</td>\n",
       "      <td>0.000000</td>\n",
       "      <td>0.000000</td>\n",
       "      <td>0.000000</td>\n",
       "      <td>7.414681e-05</td>\n",
       "      <td>0.851989</td>\n",
       "      <td>0.000000</td>\n",
       "      <td>0.0</td>\n",
       "      <td>0.0</td>\n",
       "      <td>0.0</td>\n",
       "      <td>1.0</td>\n",
       "      <td>0.0</td>\n",
       "      <td>0.0</td>\n",
       "      <td>1.0</td>\n",
       "      <td>1.0</td>\n",
       "      <td>0.0</td>\n",
       "      <td>0.0</td>\n",
       "      <td>0.0</td>\n",
       "      <td>0</td>\n",
       "    </tr>\n",
       "    <tr>\n",
       "      <td>2</td>\n",
       "      <td>0.003907</td>\n",
       "      <td>0.000000</td>\n",
       "      <td>0.000000</td>\n",
       "      <td>0.001376</td>\n",
       "      <td>0.002389</td>\n",
       "      <td>3.907294e-03</td>\n",
       "      <td>0.851912</td>\n",
       "      <td>0.300000</td>\n",
       "      <td>0.0</td>\n",
       "      <td>1.0</td>\n",
       "      <td>0.0</td>\n",
       "      <td>0.0</td>\n",
       "      <td>0.0</td>\n",
       "      <td>1.0</td>\n",
       "      <td>0.0</td>\n",
       "      <td>0.0</td>\n",
       "      <td>0.0</td>\n",
       "      <td>0.0</td>\n",
       "      <td>1.0</td>\n",
       "      <td>0</td>\n",
       "    </tr>\n",
       "    <tr>\n",
       "      <td>3</td>\n",
       "      <td>0.000077</td>\n",
       "      <td>0.000000</td>\n",
       "      <td>0.000000</td>\n",
       "      <td>0.000000</td>\n",
       "      <td>0.000000</td>\n",
       "      <td>7.662373e-05</td>\n",
       "      <td>0.851991</td>\n",
       "      <td>0.300000</td>\n",
       "      <td>0.0</td>\n",
       "      <td>0.0</td>\n",
       "      <td>0.0</td>\n",
       "      <td>1.0</td>\n",
       "      <td>0.0</td>\n",
       "      <td>0.0</td>\n",
       "      <td>1.0</td>\n",
       "      <td>1.0</td>\n",
       "      <td>0.0</td>\n",
       "      <td>0.0</td>\n",
       "      <td>0.0</td>\n",
       "      <td>0</td>\n",
       "    </tr>\n",
       "    <tr>\n",
       "      <td>4</td>\n",
       "      <td>0.002358</td>\n",
       "      <td>0.218942</td>\n",
       "      <td>0.267494</td>\n",
       "      <td>0.006848</td>\n",
       "      <td>0.006233</td>\n",
       "      <td>4.716714e-03</td>\n",
       "      <td>0.856807</td>\n",
       "      <td>0.166667</td>\n",
       "      <td>1.0</td>\n",
       "      <td>0.0</td>\n",
       "      <td>0.0</td>\n",
       "      <td>0.0</td>\n",
       "      <td>0.0</td>\n",
       "      <td>1.0</td>\n",
       "      <td>0.0</td>\n",
       "      <td>0.0</td>\n",
       "      <td>0.0</td>\n",
       "      <td>0.0</td>\n",
       "      <td>1.0</td>\n",
       "      <td>0</td>\n",
       "    </tr>\n",
       "  </tbody>\n",
       "</table>\n",
       "</div>"
      ],
      "text/plain": [
       "          0         1         2         3         4             5         6  \\\n",
       "0  0.000107  0.000743  0.000692  0.000000  0.000000  1.081718e-10  0.852023   \n",
       "1  0.000074  0.000000  0.000000  0.000000  0.000000  7.414681e-05  0.851989   \n",
       "2  0.003907  0.000000  0.000000  0.001376  0.002389  3.907294e-03  0.851912   \n",
       "3  0.000077  0.000000  0.000000  0.000000  0.000000  7.662373e-05  0.851991   \n",
       "4  0.002358  0.218942  0.267494  0.006848  0.006233  4.716714e-03  0.856807   \n",
       "\n",
       "          7    8    9   10   11   12   13   14   15   16   17   18  isFraud  \n",
       "0  0.000000  0.0  0.0  0.0  1.0  0.0  0.0  1.0  1.0  0.0  0.0  0.0        0  \n",
       "1  0.000000  0.0  0.0  0.0  1.0  0.0  0.0  1.0  1.0  0.0  0.0  0.0        0  \n",
       "2  0.300000  0.0  1.0  0.0  0.0  0.0  1.0  0.0  0.0  0.0  0.0  1.0        0  \n",
       "3  0.300000  0.0  0.0  0.0  1.0  0.0  0.0  1.0  1.0  0.0  0.0  0.0        0  \n",
       "4  0.166667  1.0  0.0  0.0  0.0  0.0  1.0  0.0  0.0  0.0  0.0  1.0        0  "
      ]
     },
     "execution_count": 32,
     "metadata": {},
     "output_type": "execute_result"
    }
   ],
   "source": [
    "data.head()"
   ]
  },
  {
   "cell_type": "code",
   "execution_count": 33,
   "metadata": {},
   "outputs": [
    {
     "data": {
      "text/plain": [
       "(1272524, 20)"
      ]
     },
     "execution_count": 33,
     "metadata": {},
     "output_type": "execute_result"
    }
   ],
   "source": [
    "# Load the test dataset (already normalized via MinMaxScaler) \n",
    "test = pd.read_csv(\"test_data.csv\")\n",
    "test.shape"
   ]
  },
  {
   "cell_type": "code",
   "execution_count": 34,
   "metadata": {},
   "outputs": [
    {
     "name": "stdout",
     "output_type": "stream",
     "text": [
      "(10166552, 19)\n",
      "(10166552,)\n",
      "(1272524, 19)\n",
      "(1272524,)\n"
     ]
    }
   ],
   "source": [
    "# Create X and y object \n",
    "X_train2 = data.drop(['isFraud'], axis=1)\n",
    "X_test2 = test.drop(['isFraud'], axis=1)\n",
    "y_train2 = data['isFraud']\n",
    "y_test2 = test['isFraud']\n",
    "\n",
    "# Verify shape\n",
    "print(X_train2.shape)\n",
    "print(y_train2.shape)\n",
    "print(X_test2.shape)\n",
    "print(y_test2.shape)"
   ]
  },
  {
   "cell_type": "code",
   "execution_count": 35,
   "metadata": {},
   "outputs": [
    {
     "name": "stdout",
     "output_type": "stream",
     "text": [
      "Counter({0: 5083526, 1: 5083026})\n"
     ]
    }
   ],
   "source": [
    "from collections import Counter\n",
    "# Summarize class distribution\n",
    "counter3 = Counter(y_train2)\n",
    "print(counter3)"
   ]
  },
  {
   "cell_type": "markdown",
   "metadata": {},
   "source": [
    "The oversampled train data have now achieved balance between the 2 classes."
   ]
  },
  {
   "cell_type": "code",
   "execution_count": 36,
   "metadata": {},
   "outputs": [
    {
     "name": "stdout",
     "output_type": "stream",
     "text": [
      "Counter({0: 1270881, 1: 1643})\n"
     ]
    }
   ],
   "source": [
    "counter4 = Counter(y_test2)\n",
    "print(counter4)"
   ]
  },
  {
   "cell_type": "markdown",
   "metadata": {},
   "source": [
    "The test data was not oversampled and maintains the original imbalance between the 2 classes."
   ]
  },
  {
   "cell_type": "code",
   "execution_count": 37,
   "metadata": {},
   "outputs": [
    {
     "name": "stdout",
     "output_type": "stream",
     "text": [
      "Model: \"sequential_3\"\n",
      "_________________________________________________________________\n",
      "Layer (type)                 Output Shape              Param #   \n",
      "=================================================================\n",
      "dense_7 (Dense)              (None, 64)                1280      \n",
      "_________________________________________________________________\n",
      "dropout_5 (Dropout)          (None, 64)                0         \n",
      "_________________________________________________________________\n",
      "dense_8 (Dense)              (None, 32)                2080      \n",
      "_________________________________________________________________\n",
      "dropout_6 (Dropout)          (None, 32)                0         \n",
      "_________________________________________________________________\n",
      "dense_9 (Dense)              (None, 1)                 33        \n",
      "=================================================================\n",
      "Total params: 3,393\n",
      "Trainable params: 3,393\n",
      "Non-trainable params: 0\n",
      "_________________________________________________________________\n"
     ]
    }
   ],
   "source": [
    "# Initialize the ANN\n",
    "model3 = Sequential()\n",
    "\n",
    "# Add the input layer and the first hidden layer, followed by dropout layer for regularization \n",
    "model3.add(Dense(units = 64 , kernel_initializer = 'uniform', activation = 'relu', input_dim = 19))\n",
    "model3.add(Dropout(rate = 0.5))\n",
    "\n",
    "# Add the second hidden layer, followed by dropout layer for regularization \n",
    "model3.add(Dense(units = 32, activation = 'relu'))\n",
    "model3.add(Dropout(rate = 0.5))\n",
    "\n",
    "# Add the output layer\n",
    "model3.add(Dense(units = 1, activation = 'sigmoid'))\n",
    "\n",
    "# Compile the ANN\n",
    "model3.compile(optimizer = 'adam', loss = 'binary_crossentropy', metrics = ['accuracy'])\n",
    "\n",
    "# Get model summary\n",
    "model3.summary()"
   ]
  },
  {
   "cell_type": "code",
   "execution_count": 38,
   "metadata": {},
   "outputs": [],
   "source": [
    "# Implement early stopping \n",
    "from keras.callbacks import ModelCheckpoint, EarlyStopping\n",
    "mc = ModelCheckpoint(\"nn_oversampling.h5\", save_best_only = True, verbose = 1)\n",
    "es = EarlyStopping(monitor = \"val_loss\", mode = \"min\", verbose = 1, patience = 10, restore_best_weights = True)"
   ]
  },
  {
   "cell_type": "code",
   "execution_count": 48,
   "metadata": {},
   "outputs": [
    {
     "name": "stdout",
     "output_type": "stream",
     "text": [
      "Train on 8133241 samples, validate on 2033311 samples\n",
      "Epoch 1/50\n",
      "8133241/8133241 [==============================] - 22s 3us/step - loss: 0.1346 - accuracy: 0.9529 - val_loss: 0.2074 - val_accuracy: 0.9845\n",
      "\n",
      "Epoch 00001: val_loss did not improve from 0.13723\n",
      "Epoch 2/50\n",
      "8133241/8133241 [==============================] - 19s 2us/step - loss: 0.1098 - accuracy: 0.9606 - val_loss: 0.2510 - val_accuracy: 0.9841\n",
      "\n",
      "Epoch 00002: val_loss did not improve from 0.13723\n",
      "Epoch 3/50\n",
      "8133241/8133241 [==============================] - 18s 2us/step - loss: 0.1052 - accuracy: 0.9634 - val_loss: 0.3657 - val_accuracy: 0.9840\n",
      "\n",
      "Epoch 00003: val_loss did not improve from 0.13723\n",
      "Epoch 4/50\n",
      "8133241/8133241 [==============================] - 18s 2us/step - loss: 0.1037 - accuracy: 0.9635 - val_loss: 0.4436 - val_accuracy: 0.9835\n",
      "\n",
      "Epoch 00004: val_loss did not improve from 0.13723\n",
      "Epoch 5/50\n",
      "8133241/8133241 [==============================] - 18s 2us/step - loss: 0.1067 - accuracy: 0.9597 - val_loss: 0.4985 - val_accuracy: 0.9834\n",
      "\n",
      "Epoch 00005: val_loss did not improve from 0.13723\n",
      "Epoch 6/50\n",
      "8133241/8133241 [==============================] - 17s 2us/step - loss: 0.1027 - accuracy: 0.9614 - val_loss: 0.5253 - val_accuracy: 0.9835\n",
      "\n",
      "Epoch 00006: val_loss did not improve from 0.13723\n",
      "Epoch 7/50\n",
      "8133241/8133241 [==============================] - 17s 2us/step - loss: 0.1128 - accuracy: 0.9562 - val_loss: 0.5596 - val_accuracy: 0.9837\n",
      "\n",
      "Epoch 00007: val_loss did not improve from 0.13723\n",
      "Epoch 8/50\n",
      "8133241/8133241 [==============================] - 17s 2us/step - loss: 0.1074 - accuracy: 0.9574 - val_loss: 0.5996 - val_accuracy: 0.9836\n",
      "\n",
      "Epoch 00008: val_loss did not improve from 0.13723\n",
      "Epoch 9/50\n",
      "8133241/8133241 [==============================] - 18s 2us/step - loss: 0.1151 - accuracy: 0.9513 - val_loss: 0.6866 - val_accuracy: 0.9839\n",
      "\n",
      "Epoch 00009: val_loss did not improve from 0.13723\n",
      "Epoch 10/50\n",
      "8133241/8133241 [==============================] - 17s 2us/step - loss: 0.1268 - accuracy: 0.9539 - val_loss: 0.5910 - val_accuracy: 0.9833\n",
      "\n",
      "Epoch 00010: val_loss did not improve from 0.13723\n",
      "Epoch 11/50\n",
      "8133241/8133241 [==============================] - 17s 2us/step - loss: 0.1275 - accuracy: 0.9612 - val_loss: 0.4460 - val_accuracy: 0.9830\n",
      "\n",
      "Epoch 00011: val_loss did not improve from 0.13723\n",
      "Restoring model weights from the end of the best epoch\n",
      "Epoch 00011: early stopping\n"
     ]
    }
   ],
   "source": [
    "# Fit the ANN to the training data \n",
    "mod3_hist = model3.fit(X_train2, y_train2, validation_split = 0.2, \n",
    "                      batch_size = 2048, epochs = 50, verbose = 1, callbacks = [mc, es]).history"
   ]
  },
  {
   "cell_type": "code",
   "execution_count": 50,
   "metadata": {},
   "outputs": [
    {
     "data": {
      "image/png": "[encoded data removed]",
      "text/plain": [
       "<Figure size 432x288 with 1 Axes>"
      ]
     },
     "metadata": {
      "needs_background": "light"
     },
     "output_type": "display_data"
    }
   ],
   "source": [
    "# model loss\n",
    "plt.plot(mod3_hist['loss'], linewidth=2, label='Train')\n",
    "plt.plot(mod3_hist['val_loss'], linewidth=2, label='Test')\n",
    "plt.legend(loc='upper left')\n",
    "plt.title('Model loss')\n",
    "plt.ylabel('Loss')\n",
    "plt.xlabel('Epoch')\n",
    "plt.show()"
   ]
  },
  {
   "cell_type": "code",
   "execution_count": 40,
   "metadata": {},
   "outputs": [
    {
     "name": "stdout",
     "output_type": "stream",
     "text": [
      "1272524/1272524 [==============================] - 1s 1us/step\n"
     ]
    },
    {
     "data": {
      "text/plain": [
       "[0.09873954668125338, 0.9515639543533325]"
      ]
     },
     "execution_count": 40,
     "metadata": {},
     "output_type": "execute_result"
    }
   ],
   "source": [
    "model3.evaluate(X_test2, y_test2, batch_size = 2048)"
   ]
  },
  {
   "cell_type": "code",
   "execution_count": 41,
   "metadata": {},
   "outputs": [],
   "source": [
    "# Predict test data \n",
    "y_pred_mod3 = model3.predict(X_test2)\n",
    "y_pred_mod3 = [0 if x < 0.5 else 1 for x in y_pred_mod3]"
   ]
  },
  {
   "cell_type": "code",
   "execution_count": 42,
   "metadata": {},
   "outputs": [
    {
     "data": {
      "image/png": "[encoded data removed]",
      "text/plain": [
       "<Figure size 432x288 with 2 Axes>"
      ]
     },
     "metadata": {
      "needs_background": "light"
     },
     "output_type": "display_data"
    }
   ],
   "source": [
    "# Generate confusion matrix and classification report \n",
    "cnf_test_mod3 = metrics.confusion_matrix(y_test2, y_pred_mod3)\n",
    "clr_test_mod3 = metrics.classification_report(y_test2, y_pred_mod3)\n",
    "\n",
    "# Create Heatmap for Confusion Matrix \n",
    "sns.heatmap(cnf_test_mod3, annot=True, cmap=\"YlGnBu\" ,fmt='g')\n",
    "plt.tight_layout()\n",
    "plt.title('Confusion Matrix for Neural Network Model 3 (with Oversampling) on Test Data', y=1.1)\n",
    "plt.ylabel('Actual label')\n",
    "plt.xlabel('Predicted label')\n",
    "\n",
    "# Fix for mpl bug that cuts off top/bottom of seaborn visualization\n",
    "b, t = plt.ylim() # discover the values for bottom and top\n",
    "b += 0.5 # Add 0.5 to the bottom\n",
    "t -= 0.5 # Subtract 0.5 from the top\n",
    "plt.ylim(b, t) # update the ylim(bottom, top) values\n",
    "plt.savefig(\"cnf_nn3\", bbox_inches = 'tight')\n",
    "plt.show()"
   ]
  },
  {
   "cell_type": "code",
   "execution_count": 43,
   "metadata": {},
   "outputs": [
    {
     "name": "stdout",
     "output_type": "stream",
     "text": [
      "              precision    recall  f1-score   support\n",
      "\n",
      "           0       1.00      0.95      0.98   1270881\n",
      "           1       0.03      1.00      0.05      1643\n",
      "\n",
      "    accuracy                           0.95   1272524\n",
      "   macro avg       0.51      0.97      0.51   1272524\n",
      "weighted avg       1.00      0.95      0.97   1272524\n",
      "\n"
     ]
    }
   ],
   "source": [
    "# Print classification report\n",
    "print(clr_test_mod3)"
   ]
  },
  {
   "cell_type": "code",
   "execution_count": 44,
   "metadata": {},
   "outputs": [
    {
     "data": {
      "image/png": "[encoded data removed]",
      "text/plain": [
       "<Figure size 432x144 with 2 Axes>"
      ]
     },
     "metadata": {
      "needs_background": "light"
     },
     "output_type": "display_data"
    }
   ],
   "source": [
    "# Save classification report for presentation \n",
    "clf_report3 = metrics.classification_report(y_test2, y_pred_mod3, output_dict=True)\n",
    "df3 = pd.DataFrame(clf_report3).iloc[:-1, :2].T\n",
    "\n",
    "fig, ax = plt.subplots(figsize = (6, 2))\n",
    "sns.heatmap(df3, annot=True)\n",
    "plt.title(\"Classification Report of Neural Network Model 3 (with Oversampling)\")\n",
    "ax.set_ylim(len(df3)+0, -0)\n",
    "fig.savefig(\"nn_mod3\", bbox_inches = 'tight')\n",
    "plt.show()"
   ]
  },
  {
   "cell_type": "code",
   "execution_count": 45,
   "metadata": {},
   "outputs": [
    {
     "data": {
      "image/png": "[encoded data removed]",
      "text/plain": [
       "<Figure size 432x288 with 2 Axes>"
      ]
     },
     "metadata": {
      "needs_background": "light"
     },
     "output_type": "display_data"
    }
   ],
   "source": [
    "# Predict train data \n",
    "y_pred_mod3_train = model3.predict(X_train2)\n",
    "y_pred_mod3_train = [0 if x < 0.5 else 1 for x in y_pred_mod3_train]\n",
    "\n",
    "# Generate confusion matrix\n",
    "cnf_train_mod3 = metrics.confusion_matrix(y_train2, y_pred_mod3_train)\n",
    "\n",
    "# Create Heatmap for Confusion Matrix \n",
    "sns.heatmap(cnf_train_mod3, annot=True, cmap=\"YlGnBu\" ,fmt='g')\n",
    "plt.tight_layout()\n",
    "plt.title('Confusion Matrix for Neural Network Model 3 (with Oversampling) on Train Data', y=1.1)\n",
    "plt.ylabel('Actual label')\n",
    "plt.xlabel('Predicted label')\n",
    "\n",
    "# Fix for mpl bug that cuts off top/bottom of seaborn visualization\n",
    "b, t = plt.ylim() # discover the values for bottom and top\n",
    "b += 0.5 # Add 0.5 to the bottom\n",
    "t -= 0.5 # Subtract 0.5 from the top\n",
    "plt.ylim(b, t) # update the ylim(bottom, top) values\n",
    "plt.show()"
   ]
  },
  {
   "cell_type": "code",
   "execution_count": 46,
   "metadata": {},
   "outputs": [
    {
     "name": "stdout",
     "output_type": "stream",
     "text": [
      "              precision    recall  f1-score   support\n",
      "\n",
      "           0       0.99      0.95      0.97   5083526\n",
      "           1       0.95      0.99      0.97   5083026\n",
      "\n",
      "    accuracy                           0.97  10166552\n",
      "   macro avg       0.97      0.97      0.97  10166552\n",
      "weighted avg       0.97      0.97      0.97  10166552\n",
      "\n"
     ]
    }
   ],
   "source": [
    "# Generate classification report \n",
    "clr_train_mod3 = metrics.classification_report(y_train2, y_pred_mod3_train)\n",
    "print(clr_train_mod3)"
   ]
  },
  {
   "cell_type": "markdown",
   "metadata": {},
   "source": [
    "From the comparison of accuracy and the classification reports between the train and test data , we can see there's no overfitting. We have almost perfect recall on the test data, while the low precision and f1-score of class 1 is due to the high accuracy in identifying the fraudulent transactions. "
   ]
  }
 ],
 "metadata": {
  "kernelspec": {
   "display_name": "Python 3",
   "language": "python",
   "name": "python3"
  },
  "language_info": {
   "codemirror_mode": {
    "name": "ipython",
    "version": 3
   },
   "file_extension": ".py",
   "mimetype": "text/x-python",
   "name": "python",
   "nbconvert_exporter": "python",
   "pygments_lexer": "ipython3",
   "version": "3.7.3"
  }
 },
 "nbformat": 4,
 "nbformat_minor": 2
}
